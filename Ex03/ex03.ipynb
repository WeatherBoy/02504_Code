{
 "cells": [
  {
   "attachments": {},
   "cell_type": "markdown",
   "metadata": {},
   "source": [
    "# Exercise 3"
   ]
  },
  {
   "attachments": {},
   "cell_type": "markdown",
   "metadata": {},
   "source": [
    "## Helper functions"
   ]
  },
  {
   "cell_type": "code",
   "execution_count": 1,
   "metadata": {},
   "outputs": [],
   "source": [
    "import numpy as np\n",
    "import cv2 \n",
    "import os\n",
    "import scipy\n",
    "import matplotlib.pyplot as plt\n",
    "import matplotlib\n",
    "\n",
    "def load_im(path : str) -> np.ndarray:\n",
    "    \n",
    "    im = cv2.imread(path)[:, :, ::-1]\n",
    "    im = im.astype(np.float64) / 255\n",
    "    \n",
    "    return im\n",
    "\n",
    "def pi(points : np.ndarray) -> np.ndarray:\n",
    "    \"\"\"\n",
    "        Converts from homogeneous to inhomogeneous coordinates\n",
    "    \"\"\"\n",
    "    p = points[:-1]/points[-1]\n",
    "    \n",
    "    return p\n",
    "\n",
    "\n",
    "def piInv(points : np.ndarray) -> np.ndarray:\n",
    "    \"\"\"\n",
    "        Converts from inhomogeneous to homogeneous coordinates\n",
    "    \"\"\"\n",
    "    \n",
    "    # Gets the amount of points by using shape\n",
    "    _, num_points = points.shape\n",
    "    \n",
    "    # Stacks the scale s at the bottom of the matrix\n",
    "    ph = np.vstack((points, np.ones(num_points)))\n",
    "    \n",
    "    return ph\n",
    "\n",
    "\n",
    "def projectPoints(K, Rt, Q):\n",
    "    \n",
    "    Q_hom = piInv(Q)\n",
    "    points = K @ Rt @ Q_hom\n",
    "    points_inhom = pi(points)\n",
    "    \n",
    "    return points_inhom"
   ]
  },
  {
   "attachments": {},
   "cell_type": "markdown",
   "metadata": {},
   "source": [
    "## Initial setup\n",
    "Its propaply good to remember that:\n",
    "$$\n",
    "    \\begin{align*}\n",
    "        \\pmb{p}_h &= \\pmb{K} \\pmb{P}_{cam}\n",
    "        \\\\\n",
    "        &=  \\pmb{K} \\left[ \\pmb{R} \\pmb{t} \\right] \\pmb{P}_h\n",
    "    \\end{align*}\n",
    "$$\n",
    "\n",
    "Where:\n",
    "$$\n",
    "    \\begin{equation*}\n",
    "        \\mathcal{P} = \\pmb{K} \\left[ \\pmb{R} \\pmb{t} \\right]\n",
    "    \\end{equation*}\n",
    "$$"
   ]
  },
  {
   "cell_type": "code",
   "execution_count": 2,
   "metadata": {},
   "outputs": [],
   "source": [
    "\n",
    "K = np.array(\n",
    "    [[1000, 0, 300],\n",
    "     [0, 1000, 200],\n",
    "     [0, 0, 1]]\n",
    ")\n",
    "\n",
    "R1 = np.diag(np.ones(3))\n",
    "t1 = np.zeros((3,1))\n",
    "Rt1 = np.concatenate((R1, t1), axis=1)\n",
    "\n",
    "R2 = scipy.spatial.transform.Rotation.from_euler(\"xyz\", [0.7, -0.5, 0.8]).as_matrix()\n",
    "t2 = np.array([0.2, 2, 1]).reshape(-1, 1)\n",
    "Rt2 = np.concatenate((R2, t2), axis=1)\n"
   ]
  },
  {
   "attachments": {},
   "cell_type": "markdown",
   "metadata": {},
   "source": [
    "## Ex 3.1\n",
    "Consider the 3D point:\n",
    "\n",
    "$$\n",
    "    \\begin{bmatrix}\n",
    "        1 \\\\\n",
    "        0.5 \\\\\n",
    "        4 \\\\\n",
    "        1\n",
    "    \\end{bmatrix}\n",
    "$$\n",
    "\n",
    "and find the projections in `Cam1` and `Cam2`, respectively, points $\\pmb{q}_1$ and $\\pmb{q}_2$.\n",
    "\n",
    "*Okay... and now I can't be bothered to write the exercise description anymore*"
   ]
  },
  {
   "attachments": {},
   "cell_type": "markdown",
   "metadata": {},
   "source": [
    "### Response"
   ]
  },
  {
   "attachments": {},
   "cell_type": "markdown",
   "metadata": {},
   "source": [
    "We use the formulas:\n",
    "$$\n",
    "    \\begin{align*}\n",
    "        \\pmb{q} &= \\mathcal{P} \\pmb{p} \\\\\n",
    "        \\pmb{p} &= \\mathcal{P}^{-1} \\pmb{q}\n",
    "    \\end{align*}\n",
    "$$\n",
    "from week 3, slide 14."
   ]
  },
  {
   "cell_type": "code",
   "execution_count": 3,
   "metadata": {},
   "outputs": [
    {
     "name": "stdout",
     "output_type": "stream",
     "text": [
      "q1: \n",
      "[[2200.]\n",
      " [1300.]\n",
      " [   4.]]\n",
      "\n",
      "q2: \n",
      "[[2590.22714938]\n",
      " [ 827.08784113]\n",
      " [   4.44695131]]\n"
     ]
    }
   ],
   "source": [
    "Q = np.array([1, 0.5, 4, 1]).reshape(-1, 1)\n",
    "\n",
    "q1 = K @ Rt1 @ Q\n",
    "q2 = K @ Rt2 @ Q\n",
    "\n",
    "print(f\"q1: \\n{q1}\\n\")\n",
    "print(f\"q2: \\n{q2}\")\n",
    "      \n",
    "\n"
   ]
  },
  {
   "attachments": {},
   "cell_type": "markdown",
   "metadata": {},
   "source": [
    "## Ex 3.2\n",
    "\n",
    "We now need to implement a function called `CrossOp`.\n"
   ]
  },
  {
   "attachments": {},
   "cell_type": "markdown",
   "metadata": {},
   "source": [
    "### Response"
   ]
  },
  {
   "cell_type": "code",
   "execution_count": 4,
   "metadata": {},
   "outputs": [],
   "source": [
    "def CrossOp(p : np.ndarray) -> np.ndarray:\n",
    "    \"\"\"\n",
    "        One of Them weird functions. It takes in a 3D vector and then returns\n",
    "        some gnarly matrix.\n",
    "    \"\"\"\n",
    "    p = p.flatten()\n",
    "    if p.size != 3:\n",
    "        raise Exception(\"Invalid input, vector must be exactly 3D.\")\n",
    "    \n",
    "    x, y, z = p\n",
    "    px = np.array(\n",
    "        [[0, -z, y],\n",
    "         [z, 0, -x],\n",
    "         [-y, x, 0]]\n",
    "    )\n",
    "    \n",
    "    return px"
   ]
  },
  {
   "attachments": {},
   "cell_type": "markdown",
   "metadata": {},
   "source": [
    "#### Testing\n",
    "this dumb-ass function"
   ]
  },
  {
   "cell_type": "code",
   "execution_count": 5,
   "metadata": {},
   "outputs": [
    {
     "name": "stdout",
     "output_type": "stream",
     "text": [
      "Cross product between q1 and q2: \n",
      "[-13  22 -10]\n",
      "CrossOp between q1 and q2: \n",
      "[-13  22 -10]\n",
      "Their difference: \n",
      "[0 0 0]\n"
     ]
    }
   ],
   "source": [
    "p1 = np.array([2, 3, 4])\n",
    "p2 = np.array([6, 4, 1])\n",
    "\n",
    "p1x = CrossOp(p1)\n",
    "\n",
    "p1xp2 = np.cross(p1, p2)\n",
    "\n",
    "print(f\"Cross product between q1 and q2: \\n{p1xp2}\\nCrossOp between q1 and q2: \\n{p1x @ p2}\\nTheir difference: \\n{p1xp2 - p1x @ p2}\")"
   ]
  },
  {
   "attachments": {},
   "cell_type": "markdown",
   "metadata": {},
   "source": [
    "Pretty numbers give pretty results <3"
   ]
  },
  {
   "attachments": {},
   "cell_type": "markdown",
   "metadata": {},
   "source": [
    "## Ex 3.3\n",
    "We need to compute fundamental matrix $\\pmb{F}$ of the two cameras."
   ]
  },
  {
   "attachments": {},
   "cell_type": "markdown",
   "metadata": {},
   "source": [
    "### Response\n",
    "We use this formula from week 3, slide 20:\n",
    "\n",
    "For:\n",
    "$$\n",
    "    \\begin{equation*}\n",
    "        \\pmb{p} = \\mathcal{P}^{-1} \\pmb{q}\n",
    "    \\end{equation*}\n",
    "$$\n",
    "\n",
    "We have:\n",
    "$$\n",
    "    \\begin{align*}\n",
    "        \\pmb{p}_2^T \\pmb{E} \\pmb{p}_1 &= 0\n",
    "        \\\\\n",
    "        (\\pmb{K}^{-1}_2 \\pmb{q}_2)^T \\pmb{E} (\\pmb{K}^{-1}_1 \\pmb{q}_1) &= 0\n",
    "        \\\\\n",
    "        \\pmb{q}_2^T \\pmb{K}^{-T}_2 \\pmb{E} \\pmb{K}^{-1}_1 \\pmb{q}_1 &= 0\n",
    "    \\end{align*}\n",
    "$$\n",
    "\n",
    "Where:\n",
    "$$\n",
    "    \\begin{equation*}\n",
    "        \\pmb{F} = \\pmb{K}^{-T}_2 \\pmb{E} \\pmb{K}^{-1}_1\n",
    "    \\end{equation*}\n",
    "$$"
   ]
  },
  {
   "attachments": {},
   "cell_type": "markdown",
   "metadata": {},
   "source": [
    "But to compute this we need to use the *Essential matrix* $\\pmb{E}$ found on week 3, slide 17:\n",
    "$$\n",
    "    \\begin{align*}\n",
    "        \\pmb{n} &= \\pmb{t} \\times (\\pmb{R} \\pmb{p}_1 + \\pmb{t})\n",
    "        \\\\\n",
    "        &= \\pmb{t} \\times (\\pmb{R} \\pmb{p}_1)\n",
    "        \\\\\n",
    "        &= \\left[\\pmb{t} \\right]_{\\times} \\pmb{R} \\pmb{p}_1.\n",
    "    \\end{align*}\n",
    "$$\n",
    "\n",
    "Where:\n",
    "$$\n",
    "    \\begin{equation*}\n",
    "        \\pmb{E} = \\left[\\pmb{t} \\right]_{\\times} \\pmb{R}.\n",
    "    \\end{equation*}\n",
    "$$\n"
   ]
  },
  {
   "attachments": {},
   "cell_type": "markdown",
   "metadata": {},
   "source": [
    "As Alex says: because our reference frame is `Cam1`, we need to use the $\\pmb{R}_2$ and $\\pmb{t}_2$ to create the epipolar plane (the plane between the two cameras)."
   ]
  },
  {
   "cell_type": "code",
   "execution_count": 6,
   "metadata": {},
   "outputs": [
    {
     "name": "stdout",
     "output_type": "stream",
     "text": [
      "The fundamental matrix: \n",
      "[[ 3.29311881e-07  8.19396327e-07  1.79162592e-03]\n",
      " [ 5.15532551e-07 -8.76915984e-07  9.31426656e-05]\n",
      " [-1.29882755e-03  1.51951700e-03 -1.10072682e+00]]\n"
     ]
    }
   ],
   "source": [
    "t2x = CrossOp(t2)\n",
    "\n",
    "E = t2x @ R2\n",
    "\n",
    "Kinv = np.linalg.inv(K)\n",
    "\n",
    "F = Kinv.T @ E @ Kinv\n",
    "\n",
    "print(f\"The fundamental matrix: \\n{F}\")"
   ]
  },
  {
   "attachments": {},
   "cell_type": "markdown",
   "metadata": {},
   "source": [
    "## Ex 3.4\n",
    "What is the epipolar line $\\pmb{l}$ of $\\pmb{q}_1$ in camera two?"
   ]
  },
  {
   "attachments": {},
   "cell_type": "markdown",
   "metadata": {},
   "source": [
    "### Reponse\n",
    "We can aparently use week 3, slide 19.\n",
    "It says that\n",
    "\n",
    "For:\n",
    "$$\n",
    "    \\begin{equation*}\n",
    "        \\pmb{p} = \\mathcal{P}^{-1} \\pmb{q}\n",
    "    \\end{equation*}\n",
    "$$\n",
    "\n",
    "Are $\\pmb{p}_1$ and $\\pmb{p}_2$ in homogenous coordinates?\n",
    "\n",
    "There are two interpretations:\n",
    "*  $\\pmb{p}_1$ and $\\pmb{p}_2$ are 3D points and $\\pmb{n}$ is a vector in 3D.\n",
    "* $\\pmb{p}_1$ and $\\pmb{p}_2$ are 2D points and $\\pmb{n} = \\pmb{E} \\pmb{p}_1$ is the epipolar line, both are in homogenous coordinates."
   ]
  },
  {
   "cell_type": "code",
   "execution_count": 7,
   "metadata": {},
   "outputs": [
    {
     "name": "stdout",
     "output_type": "stream",
     "text": [
      "Is this the epipolar line? \n",
      "[[1797.91855829]\n",
      " [  -5.5294899 ]\n",
      " [-348.52473187]]\n",
      "\n",
      "This is the epipolar line! \n",
      "[[ 8.95620504e-03]\n",
      " [ 3.66751496e-04]\n",
      " [-5.28495581e+00]]\n"
     ]
    }
   ],
   "source": [
    "n = E @ q1\n",
    "\n",
    "print(f\"Is this the epipolar line? \\n{n}\\n\")\n",
    "\n",
    "# No! Cause we need to use F, since we are in homogenous coordinates\n",
    "print(f\"This is the epipolar line! \\n{F @ q1}\")\n"
   ]
  },
  {
   "attachments": {},
   "cell_type": "markdown",
   "metadata": {},
   "source": [
    "## Ex 3.5\n",
    "Is $\\pmb{q}_2$ located on the epipolar line from **Ex. 3.4**?"
   ]
  },
  {
   "attachments": {},
   "cell_type": "markdown",
   "metadata": {},
   "source": [
    "### Response\n",
    "We use that if the vectors are orthogonal then we now the point lies on the line. \n",
    "This makes intuitive sence in that two vectors that are orthogonal must intersect.\n",
    "We know that the dot product between two orthogonal vectors is zero."
   ]
  },
  {
   "cell_type": "code",
   "execution_count": 8,
   "metadata": {},
   "outputs": [
    {
     "name": "stdout",
     "output_type": "stream",
     "text": [
      "Is this close to zero? \n",
      "[[7.10542736e-15]]\n"
     ]
    }
   ],
   "source": [
    "epi_line = F @ q1\n",
    "\n",
    "print(f\"Is this close to zero? \\n{q2.T @ epi_line}\")"
   ]
  },
  {
   "attachments": {},
   "cell_type": "markdown",
   "metadata": {},
   "source": [
    "Then we can argue that the epipolar line is constructed in such a manner that it will always be orthogonal to the vector drawn from the camera center to the corresponding point on the camera.\n",
    "\n",
    "For further clarification inspect the figures of week 3, slides 8-12."
   ]
  },
  {
   "attachments": {},
   "cell_type": "markdown",
   "metadata": {},
   "source": [
    "## Ex 3.6\n",
    "\n",
    "A lot of text!\n",
    "\n",
    "Let $\\pmb{Q}$ and $\\tilde{\\pmb{Q}}$ denote the *same* 3D point in the world space $\\pmb{Q}$, and in the frame of camera one $\\tilde{\\pmb{Q}}$.\n",
    "\n",
    "In other words we have the relation:\n",
    "$$\n",
    "    \\begin{equation*}\n",
    "        \\tilde{\\pmb{Q}} =\n",
    "        \\begin{bmatrix}\n",
    "            \\pmb{R}_1, \\pmb{t} \\\\\n",
    "            \\pmb{0}, 1\n",
    "        \\end{bmatrix}\n",
    "        \\pmb{Q}\n",
    "    \\end{equation*}\n",
    "$$\n",
    "\n",
    "Then show analytically that:\n",
    "$$\n",
    "    \\begin{equation*}\n",
    "        \\pmb{Q} =\n",
    "        \\begin{bmatrix}\n",
    "            \\pmb{R}_1^T, -\\pmb{R}_1^T \\pmb{t}_1 \\\\\n",
    "            \\pmb{0}, 1\n",
    "        \\end{bmatrix}\n",
    "        \\tilde{\\pmb{Q}}\n",
    "    \\end{equation*}\n",
    "$$"
   ]
  },
  {
   "attachments": {},
   "cell_type": "markdown",
   "metadata": {},
   "source": [
    "### Response"
   ]
  },
  {
   "attachments": {},
   "cell_type": "markdown",
   "metadata": {},
   "source": [
    "## Ex 3.7\n",
    "\n",
    "Show that the projection can work only in the coordinate system of camera one, by showing we can project points with:\n",
    "$$\n",
    "    \\begin{equation*}\n",
    "        \\pmb{q}_1 = \\pmb{K} \\left[ \\pmb{I} \\pmb{0} \\right] \\tilde{\\pmb{Q}}, \\quad \\text{and} \\quad \\pmb{q}_2 = \\pmb{K} \\left[ \\tilde{\\pmb{R}}_2 \\tilde{\\pmb{t}}_2 \\right] \\tilde{\\pmb{Q}}\n",
    "    \\end{equation*}\n",
    "$$\n",
    "\n",
    "where:\n",
    "$$\n",
    "    \\begin{equation*}\n",
    "        \\tilde{\\pmb{R}}_2 = \\pmb{R}_2 \\pmb{R}_1^, \\quad \\text{and} \\quad \\tilde{\\pmb{t}}_2 = \\pmb{t}_2 - \\pmb{R}_2 \\pmb{R}_1^T \\pmb{t}_1.\n",
    "    \\end{equation*}\n",
    "$$\n"
   ]
  },
  {
   "attachments": {},
   "cell_type": "markdown",
   "metadata": {},
   "source": [
    "### Response"
   ]
  },
  {
   "attachments": {},
   "cell_type": "markdown",
   "metadata": {},
   "source": [
    "I just show that it works with the code"
   ]
  },
  {
   "attachments": {},
   "cell_type": "markdown",
   "metadata": {},
   "source": [
    "First a function to get that weird matrix"
   ]
  },
  {
   "cell_type": "code",
   "execution_count": 9,
   "metadata": {},
   "outputs": [],
   "source": [
    "def weirdMat(R, T):\n",
    "    m = R.shape[1]\n",
    "    bla = np.concatenate((R, np.zeros((1, m))), axis=0)\n",
    "    blaBla = np.concatenate((t1, np.array(1).reshape(-1,1)), axis=0)\n",
    "    weird_mat = np.concatenate((bla, blaBla), axis=1)\n",
    "    \n",
    "    return weird_mat\n",
    "    "
   ]
  },
  {
   "cell_type": "code",
   "execution_count": 10,
   "metadata": {},
   "outputs": [
    {
     "name": "stdout",
     "output_type": "stream",
     "text": [
      "Weird matrix 1:\n",
      "[[1. 0. 0. 0.]\n",
      " [0. 1. 0. 0.]\n",
      " [0. 0. 1. 0.]\n",
      " [0. 0. 0. 1.]]\n",
      "\n",
      "Weird matrix 2:\n",
      "[[ 0.61141766 -0.76384514  0.20666167  0.        ]\n",
      " [ 0.6295392   0.31131209 -0.71187442  0.        ]\n",
      " [ 0.47942554  0.56535421  0.67121217  0.        ]\n",
      " [ 0.          0.          0.          1.        ]]\n",
      "\n",
      "Q tilde 1:\n",
      "[[1. ]\n",
      " [0.5]\n",
      " [4. ]\n",
      " [1. ]]\n",
      "\n",
      "Q tilde 2:\n",
      "[[ 1.05614176]\n",
      " [-2.06230242]\n",
      " [ 3.44695131]\n",
      " [ 1.        ]]\n"
     ]
    }
   ],
   "source": [
    "weird_mat1 = weirdMat(R1, t1)\n",
    "weird_mat2 = weirdMat(R2, t2)\n",
    "\n",
    "print(\"Weird matrix 1:\")\n",
    "print(weird_mat1)\n",
    "\n",
    "print(\"\\nWeird matrix 2:\")\n",
    "print(weird_mat2)\n",
    "\n",
    "Q_tilde1 = weird_mat1 @ Q\n",
    "Q_tilde2 = weird_mat2 @ Q\n",
    "\n",
    "print(\"\\nQ tilde 1:\")\n",
    "print(Q_tilde1)\n",
    "\n",
    "print(\"\\nQ tilde 2:\")\n",
    "print(Q_tilde2)\n",
    "\n"
   ]
  },
  {
   "attachments": {},
   "cell_type": "markdown",
   "metadata": {},
   "source": [
    "#### First showing $\\pmb{q}_1$"
   ]
  },
  {
   "cell_type": "code",
   "execution_count": 11,
   "metadata": {},
   "outputs": [
    {
     "name": "stdout",
     "output_type": "stream",
     "text": [
      "q1: \n",
      "[[2200.]\n",
      " [1300.]\n",
      " [   4.]]\n",
      "\n",
      "q1 approximated: \n",
      "[[ 2090.22714938]\n",
      " [-1372.91215887]\n",
      " [    3.44695131]]\n"
     ]
    }
   ],
   "source": [
    "q1_approx = K @ np.concatenate((np.eye(K.shape[1]), np.zeros((K.shape[0], 1))), axis=1) @ Q_tilde2\n",
    "\n",
    "print(f\"q1: \\n{q1}\\n\\nq1 approximated: \\n{q1_approx}\")"
   ]
  },
  {
   "attachments": {},
   "cell_type": "markdown",
   "metadata": {},
   "source": [
    "#### Secondly showing $\\pmb{q}_2$"
   ]
  },
  {
   "cell_type": "code",
   "execution_count": 12,
   "metadata": {},
   "outputs": [
    {
     "name": "stdout",
     "output_type": "stream",
     "text": [
      "q2: \n",
      "[[2590.22714938]\n",
      " [ 827.08784113]\n",
      " [   4.44695131]]\n",
      "\n",
      "q2 approximated: \n",
      "[[3.92958980e+03]\n",
      " [9.98756356e+01]\n",
      " [2.65404563e+00]]\n"
     ]
    }
   ],
   "source": [
    "R2_tilde = R2 @ R1.T\n",
    "t2_tilde = t2 - R2 @ R1.T @ t1\n",
    "q2_approx = K @ np.concatenate((R2_tilde, t2_tilde), axis = 1) @ Q_tilde2\n",
    "\n",
    "\n",
    "print(f\"q2: \\n{q2}\\n\\nq2 approximated: \\n{q2_approx}\")"
   ]
  },
  {
   "attachments": {},
   "cell_type": "markdown",
   "metadata": {},
   "source": [
    "*Soooo.. that worked horribly*"
   ]
  },
  {
   "attachments": {},
   "cell_type": "markdown",
   "metadata": {},
   "source": [
    "## Ex. 3.8\n",
    "load a file and compute the fundamental matrix between camera 1 and camer 2."
   ]
  },
  {
   "attachments": {},
   "cell_type": "markdown",
   "metadata": {},
   "source": [
    "### Response"
   ]
  },
  {
   "attachments": {},
   "cell_type": "markdown",
   "metadata": {},
   "source": [
    "#### Loading the shabang"
   ]
  },
  {
   "cell_type": "code",
   "execution_count": 13,
   "metadata": {},
   "outputs": [
    {
     "name": "stdout",
     "output_type": "stream",
     "text": [
      "R1: \n",
      "[[1. 0. 0.]\n",
      " [0. 1. 0.]\n",
      " [0. 0. 1.]] \n",
      "\n",
      "R2: \n",
      "[[ 9.97063888e-01  1.21564307e-04  7.65740684e-02]\n",
      " [-1.37753401e-04  9.99999969e-01  2.06135565e-04]\n",
      " [-7.65740409e-02 -2.16078666e-04  9.97063874e-01]] \n",
      "\n",
      "t1: \n",
      "[[0.]\n",
      " [0.]\n",
      " [0.]] \n",
      "\n",
      "t2: \n",
      "[[-0.04594547]\n",
      " [-0.00017171]\n",
      " [ 0.00157051]]\n"
     ]
    }
   ],
   "source": [
    "DATA_PATH = \"./data/TwoImageData.npy\"\n",
    "stuff = np.load(DATA_PATH, allow_pickle=True).item()\n",
    "\n",
    "#print(stuff.keys())\n",
    "\n",
    "im1 = stuff[\"im1\"]\n",
    "im2 = stuff[\"im2\"]\n",
    "R1 = stuff[\"R1\"]\n",
    "R2 = stuff[\"R2\"]\n",
    "t1 = stuff[\"t1\"]\n",
    "t2 = stuff[\"t2\"]\n",
    "K = stuff[\"K\"]\n",
    "\n",
    "print(f\"R1: \\n{R1} \\n\\nR2: \\n{R2} \\n\\nt1: \\n{t1} \\n\\nt2: \\n{t2}\")\n"
   ]
  },
  {
   "attachments": {},
   "cell_type": "markdown",
   "metadata": {},
   "source": [
    "#### Doing the math"
   ]
  },
  {
   "cell_type": "code",
   "execution_count": 14,
   "metadata": {},
   "outputs": [
    {
     "name": "stdout",
     "output_type": "stream",
     "text": [
      "The fundamental matrix: \n",
      "[[ 6.67972386e-12 -7.85049967e-10  1.17921973e-07]\n",
      " [-9.75936980e-10 -4.86806510e-12  3.28699196e-05]\n",
      " [ 4.23506610e-07 -3.21704080e-05 -2.12002228e-04]]\n"
     ]
    }
   ],
   "source": [
    "t2x = CrossOp(t2)\n",
    "\n",
    "E = t2x @ R2\n",
    "\n",
    "Kinv = np.linalg.inv(K)\n",
    "\n",
    "F = Kinv.T @ E @ Kinv\n",
    "\n",
    "print(f\"The fundamental matrix: \\n{F}\")"
   ]
  },
  {
   "attachments": {},
   "cell_type": "markdown",
   "metadata": {},
   "source": [
    "## Ex. 3.9\n",
    "Write code such that you can click on a point in an image and display its corresponding epipolar line in image two.\n",
    "\n"
   ]
  },
  {
   "attachments": {},
   "cell_type": "markdown",
   "metadata": {},
   "source": [
    "### Response"
   ]
  },
  {
   "attachments": {},
   "cell_type": "markdown",
   "metadata": {},
   "source": [
    "#### Helper functions"
   ]
  },
  {
   "cell_type": "code",
   "execution_count": 15,
   "metadata": {},
   "outputs": [],
   "source": [
    "def in_frame(l, l_im, shape):\n",
    "    \"\"\"\n",
    "        I think this checks whether the line is within the image\n",
    "    \"\"\"\n",
    "    q = np.cross(l.flatten(), l_im)\n",
    "    q = q[:2]/q[2]\n",
    "    if all(q >= 0) and all(q+1 <= shape[1::-1]):\n",
    "        return q\n",
    "    \n",
    "def DrawLine(l, shape):\n",
    "    \"\"\"\n",
    "        Checks where the line intersects the four sides of the image\n",
    "        and finds the two intersections that are within the frame\n",
    "    \"\"\"\n",
    "    lines = [[1, 0, 0], [0, 1, 0], [1, 0, 1-shape[1]], [0, 1, 1-shape[0]]]\n",
    "    P = [in_frame(l, l_im, shape) for l_im in lines if in_frame(l, l_im, shape) is not None]\n",
    "    plt.plot(*np.array(P).T)\n",
    "    "
   ]
  },
  {
   "attachments": {},
   "cell_type": "markdown",
   "metadata": {},
   "source": [
    "#### Actual code"
   ]
  },
  {
   "cell_type": "code",
   "execution_count": 16,
   "metadata": {},
   "outputs": [],
   "source": [
    "%matplotlib qt\n",
    "\n",
    "plt.figure(figsize=(16, 9))\n",
    "plt.title(\"Image 1 naked\")\n",
    "plt.axis(\"off\")\n",
    "plt.subplot(1, 2, 1)\n",
    "plt.imshow(im1, cmap=\"gray\")\n",
    "\n",
    "point = np.asarray(plt.ginput(1)).T\n",
    "#print(point)\n",
    "\n",
    "point_hom = piInv(point)\n",
    "#print(point_hom)\n",
    "\n",
    "epi_line = F @ point_hom\n",
    "\n",
    "plt.subplot(1, 2, 2)\n",
    "plt.title(\"Image 2 with epipolar line\")\n",
    "plt.axis(\"off\")\n",
    "plt.imshow(im2, cmap=\"gray\")\n",
    "DrawLine(epi_line, im2.shape)\n",
    "\n",
    "plt.show()\n",
    "\n",
    "\n",
    "\n",
    "\n"
   ]
  },
  {
   "attachments": {},
   "cell_type": "markdown",
   "metadata": {},
   "source": [
    "## Ex. 3.10\n",
    "Get epipolar line from image 2 to image 1."
   ]
  },
  {
   "attachments": {},
   "cell_type": "markdown",
   "metadata": {},
   "source": [
    "### Response\n",
    "The code"
   ]
  },
  {
   "attachments": {},
   "cell_type": "markdown",
   "metadata": {},
   "source": [
    "#### Helper funcs"
   ]
  },
  {
   "cell_type": "code",
   "execution_count": 17,
   "metadata": {},
   "outputs": [],
   "source": [
    "def computeFundamentalMatrix(K1, K2, R2, t2):\n",
    "    \"\"\"\n",
    "        Computing the fundamental matrix between two camera matrices K1 & K2.\n",
    "    \"\"\"\n",
    "    t2x = CrossOp(t2)\n",
    "\n",
    "    E = t2x @ R2\n",
    "\n",
    "    K1inv = np.linalg.inv(K1)\n",
    "    K2inv = np.linalg.inv(K2)\n",
    "\n",
    "    F = K1inv.T @ E @ K2inv\n",
    "    \n",
    "    return F\n",
    "    \n",
    "    "
   ]
  },
  {
   "attachments": {},
   "cell_type": "markdown",
   "metadata": {},
   "source": [
    "Using equation (19) from exercises 3"
   ]
  },
  {
   "cell_type": "code",
   "execution_count": 20,
   "metadata": {},
   "outputs": [
    {
     "ename": "TypeError",
     "evalue": "asarray() got an unexpected keyword argument 'timeout'",
     "output_type": "error",
     "traceback": [
      "\u001b[1;31m---------------------------------------------------------------------------\u001b[0m",
      "\u001b[1;31mTypeError\u001b[0m                                 Traceback (most recent call last)",
      "\u001b[1;32mc:\\Users\\daflo\\Documents\\DTU\\Semester_8\\02504_Computer_vision\\Code\\Ex03\\ex03.ipynb Cell 58\u001b[0m in \u001b[0;36m<cell line: 10>\u001b[1;34m()\u001b[0m\n\u001b[0;32m      <a href='vscode-notebook-cell:/c%3A/Users/daflo/Documents/DTU/Semester_8/02504_Computer_vision/Code/Ex03/ex03.ipynb#Y111sZmlsZQ%3D%3D?line=6'>7</a>\u001b[0m plt\u001b[39m.\u001b[39msubplot(\u001b[39m1\u001b[39m, \u001b[39m2\u001b[39m, \u001b[39m1\u001b[39m)\n\u001b[0;32m      <a href='vscode-notebook-cell:/c%3A/Users/daflo/Documents/DTU/Semester_8/02504_Computer_vision/Code/Ex03/ex03.ipynb#Y111sZmlsZQ%3D%3D?line=7'>8</a>\u001b[0m plt\u001b[39m.\u001b[39mimshow(im1, cmap\u001b[39m=\u001b[39m\u001b[39m\"\u001b[39m\u001b[39mgray\u001b[39m\u001b[39m\"\u001b[39m)\n\u001b[1;32m---> <a href='vscode-notebook-cell:/c%3A/Users/daflo/Documents/DTU/Semester_8/02504_Computer_vision/Code/Ex03/ex03.ipynb#Y111sZmlsZQ%3D%3D?line=9'>10</a>\u001b[0m point \u001b[39m=\u001b[39m np\u001b[39m.\u001b[39;49masarray(plt\u001b[39m.\u001b[39;49mginput(\u001b[39m1\u001b[39;49m), timeout \u001b[39m=\u001b[39;49m SECONDS_TO_TIMEOUT)\u001b[39m.\u001b[39mT\n\u001b[0;32m     <a href='vscode-notebook-cell:/c%3A/Users/daflo/Documents/DTU/Semester_8/02504_Computer_vision/Code/Ex03/ex03.ipynb#Y111sZmlsZQ%3D%3D?line=11'>12</a>\u001b[0m \u001b[39m# Using that equation (19) from week 3.\u001b[39;00m\n\u001b[0;32m     <a href='vscode-notebook-cell:/c%3A/Users/daflo/Documents/DTU/Semester_8/02504_Computer_vision/Code/Ex03/ex03.ipynb#Y111sZmlsZQ%3D%3D?line=12'>13</a>\u001b[0m R2t \u001b[39m=\u001b[39m R2 \u001b[39m@\u001b[39m R1\u001b[39m.\u001b[39mT\n",
      "\u001b[1;31mTypeError\u001b[0m: asarray() got an unexpected keyword argument 'timeout'"
     ]
    }
   ],
   "source": [
    "%matplotlib qt\n",
    "SECONDS_TO_TIMEOUT = 10\n",
    "\n",
    "plt.figure(figsize=(16, 9))\n",
    "plt.title(\"Image 1 naked\")\n",
    "plt.axis(\"off\")\n",
    "plt.subplot(1, 2, 1)\n",
    "plt.imshow(im1, cmap=\"gray\")\n",
    "\n",
    "point = np.asarray(plt.ginput(1), timeout = SECONDS_TO_TIMEOUT).T\n",
    "\n",
    "# Using that equation (19) from week 3.\n",
    "R2t = R2 @ R1.T\n",
    "t2t = t2 - R2t @ t1\n",
    "\n",
    "F = computeFundamentalMatrix(K, K, R2t, t2t)\n",
    "\n",
    "point_hom = piInv(point)\n",
    "#print(point_hom)\n",
    "\n",
    "epi_line = F @ point_hom\n",
    "\n",
    "plt.subplot(1, 2, 2)\n",
    "plt.title(\"Image 2 with epipolar line\")\n",
    "plt.axis(\"off\")\n",
    "plt.imshow(im2, cmap=\"gray\")\n",
    "DrawLine(epi_line, im2.shape)\n",
    "\n",
    "plt.show()"
   ]
  },
  {
   "attachments": {},
   "cell_type": "markdown",
   "metadata": {},
   "source": [
    "## Ex. 3.11 - Triangulation\n"
   ]
  },
  {
   "attachments": {},
   "cell_type": "markdown",
   "metadata": {},
   "source": [
    "### Response\n",
    "For the code look at slide 28 from week 3."
   ]
  },
  {
   "cell_type": "code",
   "execution_count": null,
   "metadata": {},
   "outputs": [],
   "source": [
    "def triangulate(q_thicc : list, P_thicc : list):\n",
    "    \"\"\"\n",
    "        Should take in:\n",
    "            A list of n pixel-coordinates: [q1, q2, ..., qn]\n",
    "            \n",
    "            A list of n projection matrices: [P1, P2, ..., Pn]\n",
    "        \n",
    "        And return:\n",
    "            The triangulation of the 3D point by utilizing the linear algorithm.\n",
    "    \"\"\"\n",
    "    \n",
    "    n = len(P_thicc)\n",
    "    m = P_thicc[0].shape[1]\n",
    "    \n",
    "    B = np.zeros((2*n, m))\n",
    "    \n",
    "    for i in range(n):\n",
    "        Pi = P_thicc[i]\n",
    "        x, y = q_thicc[i]\n",
    "        x, y = x.item(), y.item()   # <-- apparently there could be some issues with indexing of arrays\n",
    "        \n",
    "        B[i*2] = Pi[2] * x - Pi[0]\n",
    "        B[i * 2 + 1] = Pi[2] * y - Pi[1]\n",
    "        \n",
    "    u, s, vh = np.linalg.svd(B)\n",
    "    v = vh.T\n",
    "    Q = v[:, -1]\n",
    "    \n",
    "    Q = Q.T / Q[-1] # <-- This scaling was highly recommended by Andreas <3\n",
    "    \n",
    "    return Q\n",
    "    "
   ]
  },
  {
   "attachments": {},
   "cell_type": "markdown",
   "metadata": {},
   "source": [
    "From the book"
   ]
  },
  {
   "cell_type": "code",
   "execution_count": null,
   "metadata": {},
   "outputs": [],
   "source": [
    "q1 = np.array([[300, 160]]).T\n",
    "\n",
    "q2 = np.array([[300, 640]]).T\n",
    "\n",
    "P1 = np.array([[800, 0, 300, 0], \n",
    "               [0, 800, 400, -2400],\n",
    "               [0, 0, 1, 0]])\n",
    "\n",
    "P2 = np.array([[800, 0, 300, 0],\n",
    "               [0, 800, 400, 2400],\n",
    "               [0, 0, 1, 0]])\n"
   ]
  },
  {
   "cell_type": "code",
   "execution_count": null,
   "metadata": {},
   "outputs": [
    {
     "name": "stdout",
     "output_type": "stream",
     "text": [
      "[[300]\n",
      " [160]]\n",
      "[[300]\n",
      " [640]]\n",
      "[ 0.  0. 10.  1.]\n"
     ]
    }
   ],
   "source": [
    "Q = triangulate(q_thicc = [q1, q2], P_thicc = [P1, P2])\n",
    "\n",
    "print(Q)"
   ]
  }
 ],
 "metadata": {
  "kernelspec": {
   "display_name": "Python 3",
   "language": "python",
   "name": "python3"
  },
  "language_info": {
   "codemirror_mode": {
    "name": "ipython",
    "version": 3
   },
   "file_extension": ".py",
   "mimetype": "text/x-python",
   "name": "python",
   "nbconvert_exporter": "python",
   "pygments_lexer": "ipython3",
   "version": "3.10.6"
  },
  "orig_nbformat": 4,
  "vscode": {
   "interpreter": {
    "hash": "d96a798051220adb8d47ede7819712d4980d7e1ecee887457e300fc8d0177c4e"
   }
  }
 },
 "nbformat": 4,
 "nbformat_minor": 2
}
