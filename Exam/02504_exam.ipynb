{
 "cells": [
  {
   "attachments": {},
   "cell_type": "markdown",
   "metadata": {},
   "source": [
    "# 02504 - Exam"
   ]
  },
  {
   "attachments": {},
   "cell_type": "markdown",
   "metadata": {},
   "source": [
    "## Helper Functions\n"
   ]
  },
  {
   "cell_type": "code",
   "execution_count": 50,
   "metadata": {},
   "outputs": [],
   "source": [
    "import numpy as np\n",
    "import cv2 \n",
    "import os\n",
    "import scipy\n",
    "import matplotlib.pyplot as plt\n",
    "import matplotlib\n",
    "\n",
    "def load_im(path : str, greyscale : bool = False) -> np.ndarray:\n",
    "    \"\"\"\n",
    "        Takes:\n",
    "            :param path: Path to where the image should be loaded\n",
    "            :param greyscale: A flag that determines whether the image should be loaded as greyscale or not\n",
    "            \n",
    "        Returns:\n",
    "            Image scaled to float.\n",
    "    \"\"\"\n",
    "    im = cv2.imread(path)[:, :, ::-1]\n",
    "    im = im.astype(np.float64) / 255\n",
    "    \n",
    "    if greyscale:\n",
    "        im = cv2.cvtColor(im, cv2.COLOR_BGR2GRAY)\n",
    "    \n",
    "    return im\n",
    "\n",
    "\n",
    "def pi(points : np.ndarray) -> np.ndarray:\n",
    "    \"\"\"\n",
    "        Converts from homogeneous to inhomogeneous coordinates\n",
    "    \"\"\"\n",
    "    p = points[:-1]/points[-1]\n",
    "    \n",
    "    return p\n",
    "\n",
    "\n",
    "def piInv(points : np.ndarray) -> np.ndarray:\n",
    "    \"\"\"\n",
    "        Converts from inhomogeneous to homogeneous coordinates\n",
    "    \"\"\"\n",
    "    \n",
    "    # Gets the amount of points by using shape\n",
    "    _, num_points = points.shape\n",
    "    \n",
    "    # Stacks the scale s at the bottom of the matrix\n",
    "    ph = np.vstack((points, np.ones(num_points)))\n",
    "    \n",
    "    return ph\n",
    "\n",
    "\n",
    "def projectPoints(K, Rt, Q):\n",
    "    \n",
    "    Q_hom = piInv(Q)\n",
    "    points = K @ Rt @ Q_hom\n",
    "    points_inhom = pi(points)\n",
    "    \n",
    "    return points_inhom\n",
    "\n",
    "\n",
    "def hest(q1, q2) -> np.ndarray:\n",
    "    \"\"\"\n",
    "        Takes two points in 2D and returns the estimated homography matrix.\n",
    "    \"\"\"\n",
    "    \n",
    "    if len(q1) != len(q2):\n",
    "        raise ValueError(\"There must be an equal amount of points in the two sets!\")\n",
    "    \n",
    "    Bi = []\n",
    "    for i in range(q1.shape[1]):\n",
    "        qi = q1[:,i]   # <-- getting the first column\n",
    "        \n",
    "        # Creating that weird qx matrix for the Kronecker product\n",
    "        q1x = np.array(\n",
    "            [[0,        -1, qi[1]],\n",
    "             [1,        0, -qi[0]],\n",
    "             [-qi[1], qi[0], 0]]\n",
    "        )\n",
    "        \n",
    "        q2t_hom = q2[:, i].reshape(-1, 1) # <-- getting the first column and reshaping does for dim: (1, ) -> (1,1)\n",
    "        Bi.append(np.kron(q2t_hom.T, q1x)) # <-- formula follows that of week 2, slide 56\n",
    "        # print(np.kron(q2t_hom.T, q1x).shape)\n",
    "       \n",
    "    B = np.concatenate(Bi, axis=0)\n",
    "    \n",
    "    # Some TA prooved that it was unneseccary to find their dot product\n",
    "    #BtB = B.T @ B\n",
    "    V, Lambda, Vt = np.linalg.svd(B)\n",
    "    Ht = Vt[-1, :]\n",
    "    \n",
    "    Ht = np.reshape(Ht, (3, 3))\n",
    "    H = Ht.T\n",
    "    \n",
    "    return H\n",
    "    \n",
    "    \n",
    "def crossOp(p : np.ndarray) -> np.ndarray:\n",
    "    \"\"\"\n",
    "        One of Them weird functions. It takes in a 3D vector and then returns\n",
    "        some gnarly matrix.\n",
    "    \"\"\"\n",
    "    p = p.flatten()\n",
    "    if p.size != 3:\n",
    "        raise Exception(\"Invalid input, vector must be exactly 3D.\")\n",
    "    \n",
    "    x, y, z = p\n",
    "    px = np.array(\n",
    "        [[0, -z, y],\n",
    "         [z, 0, -x],\n",
    "         [-y, x, 0]]\n",
    "    )\n",
    "    \n",
    "    return px\n",
    "\n",
    "\n",
    "def computeFundamentalMatrix(K1 : np.ndarray, K2 : np.ndarray, R2 : np.ndarray, t2 : np.ndarray) -> np.ndarray:\n",
    "    \"\"\"\n",
    "        Computing the fundamental matrix between two camera matrices K1 & K2.\n",
    "    \"\"\"\n",
    "    t2x = crossOp(t2)\n",
    "\n",
    "    E = t2x @ R2\n",
    "\n",
    "    K1inv = np.linalg.inv(K1)\n",
    "    K2inv = np.linalg.inv(K2)\n",
    "\n",
    "    F = K1inv.T @ E @ K2inv\n",
    "    \n",
    "    return F\n",
    "\n",
    "\n",
    "def fancyRotate(theta_x, theta_y, theta_z):\n",
    "    \"\"\"\n",
    "        Does the rotation matrix that we have seen a few times.\n",
    "        E.g. Exercises week 4, eq(12).\n",
    "    \"\"\"\n",
    "    from scipy.spatial.transform import Rotation\n",
    "    \n",
    "    R = Rotation.from_euler(\"xyz\", [theta_x, theta_y, theta_z]).as_matrix()\n",
    "    \n",
    "    return R\n",
    "\n",
    "\n",
    "def in_frame(l, l_im, shape):\n",
    "    \"\"\"\n",
    "        I think this checks whether the line is within the image\n",
    "    \"\"\"\n",
    "    q = np.cross(l.flatten(), l_im)\n",
    "    q = q[:2]/q[2]\n",
    "    if all(q >= 0) and all(q+1 <= shape[1::-1]):\n",
    "        return q\n",
    "    \n",
    "    \n",
    "def DrawLine(l, shape):\n",
    "    \"\"\"\n",
    "        Checks where the line intersects the four sides of the image\n",
    "        and finds the two intersections that are within the frame\n",
    "    \"\"\"\n",
    "    lines = [[1, 0, 0], [0, 1, 0], [1, 0, 1-shape[1]], [0, 1, 1-shape[0]]]\n",
    "    P = [in_frame(l, l_im, shape) for l_im in lines if in_frame(l, l_im, shape) is not None]\n",
    "    plt.plot(*np.array(P).T)\n",
    "\n",
    "\n",
    "def draw_line_Vitus(line: np.ndarray, tau: float):\n",
    "    \"\"\"\n",
    "        Draws a line with a width of tau.\n",
    "        \n",
    "        Takes:\n",
    "            :param line: The line to be drawn\n",
    "            :param tau: The distance from the line to be drawn\n",
    "        \n",
    "        Returns:\n",
    "            :return: None\n",
    "    \"\"\"\n",
    "    \n",
    "    x1, x2 = plt.gca().get_xlim()\n",
    "    y1 = -(line[0]*x1 + line[2]) / line[1]\n",
    "    y2 = -(line[0]*x2 + line[2]) / line[1]\n",
    "    y1_low = -(line[0]*x1 + line[2] + tau) / line[1]\n",
    "    y1_high = -(line[0]*x1 + line[2] - tau) / line[1]\n",
    "    y2_low = -(line[0]*x2 + line[2] + tau) / line[1]\n",
    "    y2_high = -(line[0]*x2 + line[2] - tau) / line[1]\n",
    "    \n",
    "    plt.axline((x1,y1), (x2,y2), c='black')\n",
    "    plt.axline((x1,y1_low), (x2,y2_low), c='black', linestyle='dashed')\n",
    "    plt.axline((x1,y1_high), (x2,y2_high), c='black', linestyle='dashed')\n",
    "\n",
    "\n",
    "def triangulate(q_thicc : list, P_thicc : list):\n",
    "    \"\"\"\n",
    "        Should take in:\n",
    "            A list of n pixel-coordinates: [q1, q2, ..., qn]\n",
    "            \n",
    "            A list of n projection matrices: [P1, P2, ..., Pn]\n",
    "        \n",
    "        And return:\n",
    "            The triangulation of the 3D point by utilizing the linear algorithm.\n",
    "    \"\"\"\n",
    "    \n",
    "    n = len(P_thicc)\n",
    "    m = P_thicc[0].shape[1]\n",
    "    \n",
    "    B = np.zeros((2*n, m))\n",
    "    \n",
    "    for i in range(n):\n",
    "        Pi = P_thicc[i]\n",
    "        x, y = q_thicc[i]\n",
    "        x, y = x.item(), y.item()   # <-- apparently there could be some issues with indexing of arrays\n",
    "        \n",
    "        B[i*2] = Pi[2] * x - Pi[0]\n",
    "        B[i * 2 + 1] = Pi[2] * y - Pi[1]\n",
    "        \n",
    "    u, s, vh = np.linalg.svd(B)\n",
    "    v = vh.T\n",
    "    Q = v[:, -1]\n",
    "    \n",
    "    Q = Q.T / Q[-1] # <-- This scaling was highly recommended by Andreas <3\n",
    "    \n",
    "    return Q\n",
    "\n",
    "\n",
    "def RMSE(q : np.ndarray, q_tilde : np.ndarray) -> np.ndarray:\n",
    "    m = q.shape[1]\n",
    "    reproject_err = np.sqrt(np.sum(np.power(q_tilde - q, 2)) / m)\n",
    "    return reproject_err\n",
    "\n",
    "\n",
    "def checkerboardPoints(n : int, m : int) -> np.ndarray:\n",
    "    \"\"\"\n",
    "        Takes:\n",
    "            an integer: n\n",
    "            \n",
    "            an integer: m\n",
    "        \n",
    "        Returns:\n",
    "            Weird matrix of size 3 x (n * m) : Q\n",
    "            (As defined per week 4 exercises, eq (7))\n",
    "        \n",
    "        Idiot code* explained:\n",
    "            We can't numpy.hstack to an empty array, so we initialize the first column, then\n",
    "            when we return, we just return all of the matrix except for the first column.\n",
    "    \"\"\"\n",
    "    \n",
    "    Q = np.zeros((3, 1))    # <-- idiot code (1/2)\n",
    "    \n",
    "    for i in range(n):\n",
    "        for j in range(m):\n",
    "            temp = np.array([i - (n - 1)/2, j - (m - 1)/2, 0]).reshape(-1, 1)\n",
    "            Q = np.hstack((Q, temp))\n",
    "    \n",
    "    Q = Q[:, 1:]    # <-- iditot code (2/2)\n",
    "    \n",
    "    return Q"
   ]
  },
  {
   "attachments": {},
   "cell_type": "markdown",
   "metadata": {},
   "source": [
    "## Actual exam"
   ]
  },
  {
   "cell_type": "code",
   "execution_count": 51,
   "metadata": {},
   "outputs": [],
   "source": [
    "PATH = \"../Data/Exam/\"\n"
   ]
  },
  {
   "attachments": {},
   "cell_type": "markdown",
   "metadata": {},
   "source": [
    "### Quest 1\n",
    "\n",
    "$\n",
    "\\textcolor{magenta}{\\text{Check this question again but about distortion coefficients!}}\n",
    "$"
   ]
  },
  {
   "cell_type": "code",
   "execution_count": 52,
   "metadata": {},
   "outputs": [],
   "source": [
    "def camera_matrix(f, deltax, deltay, alpha, beta):\n",
    "    K =  np.array(\n",
    "        [[f, beta*f, deltax],\n",
    "        [0, alpha*f, deltay],\n",
    "        [0, 0, 1]]\n",
    "    )\n",
    "    \n",
    "    return K"
   ]
  },
  {
   "cell_type": "code",
   "execution_count": 53,
   "metadata": {},
   "outputs": [
    {
     "name": "stdout",
     "output_type": "stream",
     "text": [
      "\n",
      "Camera Matrix:\n",
      " [[1200    0  400]\n",
      " [   0 1200  350]\n",
      " [   0    0    1]]\n"
     ]
    }
   ],
   "source": [
    "f = 1200\n",
    "principal_point = (400, 350)\n",
    "deltaX, deltaY = principal_point\n",
    "alpha = 1\n",
    "beta = 0\n",
    "k3 = 0.01\n",
    "k5 = 0.04\n",
    "\n",
    "K = camera_matrix(f, deltaX, deltaY, alpha, beta)\n",
    "\n",
    "print(\"\\nCamera Matrix:\\n\", K)\n"
   ]
  },
  {
   "attachments": {},
   "cell_type": "markdown",
   "metadata": {},
   "source": [
    "### Quest 2"
   ]
  },
  {
   "attachments": {},
   "cell_type": "markdown",
   "metadata": {},
   "source": [
    "Intuitivly I would think the answer is *f* but after reading lecture notes it would seem that $\\alpha$ is a scaling parameter, hence I would assume that it should simply be halfed."
   ]
  },
  {
   "cell_type": "code",
   "execution_count": 54,
   "metadata": {},
   "outputs": [],
   "source": [
    "resolution = (800, 600)\n",
    "\n",
    "K2 = np.array([[1000, 0, 400],\n",
    "              [0, 1000, 300],\n",
    "              [0, 0, 1]])\n",
    "\n",
    "new_size = (400, 300)\n",
    "\n"
   ]
  },
  {
   "cell_type": "code",
   "execution_count": 55,
   "metadata": {},
   "outputs": [
    {
     "name": "stdout",
     "output_type": "stream",
     "text": [
      "\n",
      "Camera Matrix:\n",
      " [[500.   0. 400.]\n",
      " [  0. 500. 300.]\n",
      " [  0.   0.   1.]]\n"
     ]
    }
   ],
   "source": [
    "# Camera matrix K2 has resolution 800x600, we wish to resize it to 400x300\n",
    "# We can do this by multiplying K2 with a scaling matrix S\n",
    "S = np.array([[0.5, 0, 0],\n",
    "              [0, 0.5, 0],\n",
    "              [0, 0, 1]])\n",
    "\n",
    "K2_S = K2 @ S\n",
    "\n",
    "print(\"\\nCamera Matrix:\\n\", K2_S)"
   ]
  },
  {
   "attachments": {},
   "cell_type": "markdown",
   "metadata": {},
   "source": [
    "### Quest 3\n"
   ]
  },
  {
   "cell_type": "code",
   "execution_count": 56,
   "metadata": {},
   "outputs": [
    {
     "name": "stdout",
     "output_type": "stream",
     "text": [
      "[[-0.03]\n",
      " [ 0.01]\n",
      " [ 0.59]\n",
      " [ 1.  ]]\n"
     ]
    }
   ],
   "source": [
    "point_3D = np.array([-0.03, 0.01, 0.59]).reshape(-1, 1)\n",
    "\n",
    "print(piInv(point_3D))"
   ]
  },
  {
   "cell_type": "code",
   "execution_count": 57,
   "metadata": {},
   "outputs": [
    {
     "name": "stdout",
     "output_type": "stream",
     "text": [
      "projectedPoints: \n",
      "[[707.94410717]\n",
      " [964.4581973 ]]\n"
     ]
    }
   ],
   "source": [
    "f = 1720\n",
    "principal_point = (680, 610)\n",
    "deltaX, deltaY = principal_point\n",
    "alpha = 1\n",
    "beta = 0\n",
    "\n",
    "R = cv2.Rodrigues(np.array([-0.1, -0.1, -0.2]))[0]\n",
    "\n",
    "t = np.array([[0.09], [0.05], [0.05]])\n",
    "\n",
    "point_3D = np.array([-0.03, 0.01, 0.59]).reshape(-1, 1)\n",
    "\n",
    "K3 = camera_matrix(f, deltaX, deltaY, alpha, beta)\n",
    "Rt3 = np.hstack((R, t))\n",
    "projectedPoint = projectPoints(K3, Rt3, point_3D)\n",
    "\n",
    "print(f\"projectedPoints: \\n{projectedPoint}\")\n",
    "\n"
   ]
  },
  {
   "attachments": {},
   "cell_type": "markdown",
   "metadata": {},
   "source": [
    "### Quest 5"
   ]
  },
  {
   "cell_type": "code",
   "execution_count": 58,
   "metadata": {},
   "outputs": [],
   "source": [
    "K = np.array(\n",
    "    [\n",
    "        [900, 0, 1070],\n",
    "        [0, 900, 610.0],\n",
    "        [0, 0, 1]\n",
    "    ],\n",
    "    float)\n",
    "R1 = cv2.Rodrigues(np.array([-1.6, 0.3, -2.1]))[0]\n",
    "t1 = np.array([[0.0], [1.0], [3.0]], float)\n",
    "R2 = cv2.Rodrigues(np.array([-0.4, -1.3, -1.6]))[0]\n",
    "t2 = np.array([[0.0], [1.0], [6.0]], float)\n",
    "R3 = cv2.Rodrigues(np.array([2.5, 1.7, -0.4]))[0]\n",
    "t3 = np.array([[2.0], [-7.0], [25.0]], float)\n",
    "\n",
    "Rt1 = np.hstack((R1, t1))\n",
    "Rt2 = np.hstack((R2, t2))\n",
    "Rt3 = np.hstack((R3, t3))\n",
    "\n",
    "p1 = np.array([[1046.0], [453.0]])\n",
    "p2 = np.array([[1126.0], [671.0]])\n",
    "p3 = np.array([[1165.0], [453.0]])"
   ]
  },
  {
   "cell_type": "code",
   "execution_count": 59,
   "metadata": {},
   "outputs": [
    {
     "name": "stdout",
     "output_type": "stream",
     "text": [
      "Q_1: \n",
      "[3.10058867 0.74321098 0.46490561 1.        ]\n",
      "\n",
      "Q_1 reshaped: \n",
      "[[3.10058867]\n",
      " [0.74321098]\n",
      " [0.46490561]\n",
      " [1.        ]]\n"
     ]
    }
   ],
   "source": [
    "P1 = K @ Rt1\n",
    "P2 = K @ Rt2\n",
    "P3 = K @ Rt3\n",
    "\n",
    "qs = [p1, p2, p3]\n",
    "Ps = [P1, P2, P3]\n",
    "\n",
    "Q_1 = triangulate(qs, Ps)\n",
    "\n",
    "print(f\"Q_1: \\n{Q_1}\\n\")\n",
    "Q_1 = Q_1.reshape(-1, 1)\n",
    "print(f\"Q_1 reshaped: \\n{Q_1}\")"
   ]
  },
  {
   "cell_type": "code",
   "execution_count": 60,
   "metadata": {},
   "outputs": [
    {
     "name": "stdout",
     "output_type": "stream",
     "text": [
      "This is the epipolar line! \n",
      "[[-5.20082784e-02]\n",
      " [-1.61649515e-02]\n",
      " [ 6.79342210e+01]]\n"
     ]
    }
   ],
   "source": [
    "# Point in camera 2\n",
    "q2 = K @ Rt2 @ Q_1\n",
    "\n",
    "t2x = crossOp(t2)\n",
    "\n",
    "E2 = t2x @ R2\n",
    "\n",
    "Kinv = np.linalg.inv(K)\n",
    "\n",
    "\n",
    "\n",
    "F2 = Kinv.T @ E2 @ Kinv\n",
    "\n",
    "# No! Cause we need to use F, since we are in homogenous coordinates\n",
    "print(f\"This is the epipolar line! \\n{F2 @ q2}\")"
   ]
  },
  {
   "attachments": {},
   "cell_type": "markdown",
   "metadata": {},
   "source": [
    "### Quest 6\n"
   ]
  },
  {
   "cell_type": "code",
   "execution_count": 62,
   "metadata": {},
   "outputs": [
    {
     "name": "stdout",
     "output_type": "stream",
     "text": [
      "Triangulated point: \n",
      "[[3.10058867]\n",
      " [0.74321098]\n",
      " [0.46490561]\n",
      " [1.        ]]\n"
     ]
    }
   ],
   "source": [
    "print(f\"Triangulated point: \\n{Q_1}\")"
   ]
  },
  {
   "attachments": {},
   "cell_type": "markdown",
   "metadata": {},
   "source": [
    "### Quest 11"
   ]
  },
  {
   "cell_type": "code",
   "execution_count": 66,
   "metadata": {},
   "outputs": [
    {
     "name": "stdout",
     "output_type": "stream",
     "text": [
      "Distance: 1.4907119849998596\n"
     ]
    }
   ],
   "source": [
    "# Homogenous point\n",
    "p_hom = np.array([2, 4, 3]).reshape(-1, 1)\n",
    "\n",
    "# Inhomogenous point\n",
    "p_inhom = pi(p_hom)\n",
    "\n",
    "# Line\n",
    "l_hom = np.array([1, 2, 2]).reshape(-1, 1)\n",
    "\n",
    "# inhomogenous line\n",
    "l_inhom = pi(l_hom)\n",
    "\n",
    "# Finding the distance from line to point\n",
    "d = np.abs(l_inhom.T @ p_inhom) / np.sqrt(l_inhom[0]**2 + l_inhom[1]**2)\n",
    "\n",
    "print(f\"Distance: {d.item()}\")"
   ]
  },
  {
   "cell_type": "code",
   "execution_count": 76,
   "metadata": {},
   "outputs": [
    {
     "name": "stdout",
     "output_type": "stream",
     "text": [
      "Line scaled: \n",
      "[[0.4472136 ]\n",
      " [0.89442719]\n",
      " [0.89442719]]\n",
      "\n",
      "Distance 2: 7.155417527999328\n"
     ]
    }
   ],
   "source": [
    "# I think it might just be the dot product:\n",
    "l_hom_scaled = l_hom / np.linalg.norm(l_hom[:2])\n",
    "print(f\"Line scaled: \\n{l_hom_scaled}\\n\")\n",
    "\n",
    "d2 = np.abs(l_hom_scaled.T @ p_hom)\n",
    "\n",
    "print(f\"Distance 2: {d2.item()}\")"
   ]
  },
  {
   "attachments": {},
   "cell_type": "markdown",
   "metadata": {},
   "source": [
    "### Quest 12"
   ]
  },
  {
   "attachments": {},
   "cell_type": "markdown",
   "metadata": {},
   "source": [
    "#### (Additional) Helper Functions"
   ]
  },
  {
   "cell_type": "code",
   "execution_count": 77,
   "metadata": {},
   "outputs": [],
   "source": [
    "def gaussian1DKernel(sigma: float, SDs: int = 3) -> tuple[np.ndarray, np.ndarray, np.ndarray]:\n",
    "    \"\"\"\n",
    "        Takes in:\n",
    "            The standard deviation: sigma\n",
    "            \n",
    "            (optional - 3 as default) The amount of standard deviations: SDs\n",
    "            (From statistics we know that 3 standard deviations encapsulates 99.7% of the Gaussian distribution)\n",
    "        \n",
    "        Returns:\n",
    "            The 1D Gaussian kernel: g\n",
    "            \n",
    "            The derivative: gd\n",
    "    \"\"\"\n",
    "    \n",
    "    # Morten was very big brains when he definde this kernel!\n",
    "    bounds = round(SDs * sigma)\n",
    "    x = np.arange(-bounds, bounds + 1)\n",
    "    \n",
    "    g_unorm = np.exp(- x**2/(2 * sigma**2))\n",
    "    g = g_unorm / g_unorm.sum() # <-- makes sure that g sums to one (SUCH THAT IS A PROPABILITY DISTRIBUTION!)\n",
    "    \n",
    "    gd = -x / (sigma**2) * g\n",
    "    \n",
    "    return g, gd\n",
    "\n",
    "\n",
    "def gaussianSmoothing(im : np.ndarray, sigma : float) -> tuple[np.ndarray, np.ndarray, np.ndarray]:\n",
    "    \"\"\"\n",
    "        Takes:\n",
    "            The image as a numpy array: im\n",
    "            \n",
    "            The standard deviation: sigma\n",
    "        \n",
    "        Returns:\n",
    "            The smoothed image: I\n",
    "            \n",
    "            The smoothed x-derivative of the image: Ix\n",
    "            \n",
    "            The smoothed y-derivative of the image: Iy\n",
    "    \"\"\"\n",
    "    \n",
    "    g, gd = gaussian1DKernel(sigma)\n",
    "    \n",
    "    im_smooth = cv2.sepFilter2D(im, -1, g, g)\n",
    "    \n",
    "    Ix = cv2.sepFilter2D(im, -1, gd, g)\n",
    "    \n",
    "    Iy = cv2.sepFilter2D(im, -1, g, gd)\n",
    "    \n",
    "    return im_smooth, Ix, Iy\n",
    "\n",
    "\n",
    "def smoothedHessian(im : np.ndarray, sigma : float, epsilon : int) -> np.ndarray:\n",
    "    \"\"\"\n",
    "        Takes:\n",
    "            The image as a numpy array: im\n",
    "            \n",
    "            The standard deviation: sigma\n",
    "            \n",
    "            The width of the Gaussian kernel: epsilon\n",
    "        \n",
    "        Returns:\n",
    "            The smoothed hessian: C\n",
    "    \"\"\"\n",
    "    \n",
    "    g_eps, _ = gaussian1DKernel(epsilon, SDs = 1)\n",
    "    \n",
    "    _, Ix, Iy = gaussianSmoothing(im, sigma)\n",
    "    \n",
    "    a = cv2.sepFilter2D(Ix**2, -1, g_eps, g_eps)\n",
    "    b = cv2.sepFilter2D(Iy**2, -1, g_eps, g_eps)\n",
    "    c = cv2.sepFilter2D(Ix * Iy, -1, g_eps, g_eps)\n",
    "    \n",
    "    C = np.array(\n",
    "        [[a, c],\n",
    "         [c, b]]\n",
    "    )\n",
    "    \n",
    "    return C\n",
    "\n",
    "\n",
    "def harrisMeasure(im : np.ndarray, sigma : float, epsilon : int, k : float = 0.06) -> np.ndarray:\n",
    "    \"\"\"\n",
    "        Takes:\n",
    "            The image as a numpy array: im\n",
    "            \n",
    "            The standard deviation: sigma\n",
    "            \n",
    "            The width of the Gaussian kernel: epsilon\n",
    "            \n",
    "            (Optional - default is 0.06) Some real scaling factor: k\n",
    "        \n",
    "        Returns:\n",
    "            The harris measure: r\n",
    "    \"\"\"\n",
    "    \n",
    "    C = smoothedHessian(im, sigma, epsilon)\n",
    "    \n",
    "    a = C[0, 0]\n",
    "    b = C[1, 1]\n",
    "    c = C[0, 1]\n",
    "    \n",
    "    #if c != C[1, 0]:\n",
    "    #    raise ValueError(\"Something went wrong in the previous function, oh no!\")\n",
    "    \n",
    "    r = a * b - c**2 - k * (a + b)**2\n",
    "    \n",
    "    return r\n",
    "\n",
    "\n",
    "def cornerDetector(im : np.ndarray, sigma : float, epsilon : int, k : float = 0.06, tau : float = None) -> list:\n",
    "    \"\"\"\n",
    "        Takes:\n",
    "            The image as a numpy array: im\n",
    "            \n",
    "            The standard deviation: sigma\n",
    "            \n",
    "            The width of the Gaussian kernel: epsilon\n",
    "            \n",
    "            (optional - default a tenth of max value of harris meassure) Threshold: tau\n",
    "            \n",
    "            (Optional - default is 0.06) Some real scaling factor: k\n",
    "            \n",
    "        Returns:\n",
    "            List of detected corners: c\n",
    "    \"\"\"\n",
    "    \n",
    "    \n",
    "    r = harrisMeasure(im, sigma, epsilon)\n",
    "    if tau is None:\n",
    "        tau = 0.1 * np.max(r, axis = None)  # <-- defined as per week 6, slide 31\n",
    "    \n",
    "    mask = r > tau     # <-- boolean array\n",
    "    \n",
    "    # non-maximum suprresion\n",
    "    mask[:-1, :] *= r[:-1, :] > r[1:, :] \n",
    "    mask[1:, :] *= r[1:, :] > r[:-1, :]\n",
    "    mask[:, :-1] *= r[:, :-1] > r[:, 1:]\n",
    "    mask[:, 1:] *= r[:, 1:] > r[:, :-1]\n",
    "    \n",
    "    mask[1:, 1:] *= r[1:, 1:] > r[:-1, :-1] \n",
    "    mask[:-1, :-1] *= r[:-1, :-1] > r[1:, 1:]\n",
    "    \n",
    "    c = np.where(mask)\n",
    "    c = np.array([c[1], c[0]])  # < -- apparently np.where switches the two coordinates\n",
    "    \n",
    "    return c"
   ]
  },
  {
   "attachments": {},
   "cell_type": "markdown",
   "metadata": {},
   "source": [
    "#### Response"
   ]
  },
  {
   "cell_type": "code",
   "execution_count": 82,
   "metadata": {},
   "outputs": [
    {
     "name": "stdout",
     "output_type": "stream",
     "text": [
      "gI2x: \n",
      "[[16.8 18.5 20.  20.8 20.6]\n",
      " [21.  23.4 25.5 26.7 26.5]\n",
      " [25.8 29.  31.8 33.4 33.2]\n",
      " [30.4 34.4 37.9 39.9 39.7]\n",
      " [33.9 38.6 42.7 45.1 44.9]]\n",
      "\n",
      "gI2y: \n",
      "[[35.2 31.8 27.1 22.  17.6]\n",
      " [33.3 30.2 25.9 21.4 17.4]\n",
      " [29.3 26.8 23.3 19.5 16.2]\n",
      " [24.4 22.5 19.8 16.9 14.6]\n",
      " [19.5 18.2 16.3 14.4 12.8]]\n",
      "\n",
      "gIyx: \n",
      "[[-6.5 -6.3 -5.2 -3.3 -1. ]\n",
      " [-6.7 -6.9 -6.  -4.1 -1.6]\n",
      " [-6.5 -7.1 -6.4 -4.7 -2.3]\n",
      " [-5.9 -6.7 -6.3 -4.9 -2.8]\n",
      " [-4.8 -5.7 -5.7 -4.8 -3.2]]\n",
      "\n"
     ]
    }
   ],
   "source": [
    "c = np.load(PATH + \"harris.npy\", allow_pickle=True).item()\n",
    "\n",
    "gI2x = c[\"g*(I_x^2)\"]\n",
    "gI2y = c[\"g*(I_y^2)\"]\n",
    "gIxy = c[\"g*(I_x I_y)\"]\n",
    "\n",
    "print(f\"gI2x: \\n{gI2x}\\n\")\n",
    "print(f\"gI2y: \\n{gI2y}\\n\")\n",
    "print(f\"gIyx: \\n{gIxy}\\n\")"
   ]
  },
  {
   "cell_type": "code",
   "execution_count": 87,
   "metadata": {},
   "outputs": [
    {
     "name": "stdout",
     "output_type": "stream",
     "text": [
      "[[False False False False False]\n",
      " [False False False False False]\n",
      " [False  True False False False]\n",
      " [False False False False False]\n",
      " [False False False False False]]\n",
      "(array([2], dtype=int64), array([1], dtype=int64))\n",
      "[[1]\n",
      " [2]]\n"
     ]
    }
   ],
   "source": [
    "a = gI2x\n",
    "b = gI2y\n",
    "c = gIxy\n",
    "\n",
    "# honestly redundant:    \n",
    "C = np.array(\n",
    "        [[a, c],\n",
    "         [c, b]]\n",
    "    )\n",
    "\n",
    "# Harris measure\n",
    "k = 0.06\n",
    "r = a * b - c**2 - k * (a + b)**2\n",
    "\n",
    "# corner detection\n",
    "tau = 516\n",
    "if tau is None:\n",
    "        tau = 0.1 * np.max(r, axis = None)  # <-- defined as per week 6, slide 31\n",
    "    \n",
    "mask = r > tau     # <-- boolean array\n",
    "\n",
    "# non-maximum suprresion\n",
    "mask[:-1, :] *= r[:-1, :] > r[1:, :] \n",
    "mask[1:, :] *= r[1:, :] > r[:-1, :]\n",
    "mask[:, :-1] *= r[:, :-1] > r[:, 1:]\n",
    "mask[:, 1:] *= r[:, 1:] > r[:, :-1]\n",
    "\n",
    "mask[1:, 1:] *= r[1:, 1:] > r[:-1, :-1] \n",
    "mask[:-1, :-1] *= r[:-1, :-1] > r[1:, 1:]\n",
    "\n",
    "print(mask)\n",
    "c = np.where(mask)\n",
    "print(c)\n",
    "c = np.array([c[1], c[0]])  # < -- apparently np.where switches the two coordinates\n",
    "\n",
    "\n",
    "print(c)\n"
   ]
  },
  {
   "attachments": {},
   "cell_type": "markdown",
   "metadata": {},
   "source": [
    "### Quest 13"
   ]
  },
  {
   "attachments": {},
   "cell_type": "markdown",
   "metadata": {},
   "source": [
    "#### (Additional) Helper Functions"
   ]
  },
  {
   "cell_type": "code",
   "execution_count": 90,
   "metadata": {},
   "outputs": [],
   "source": [
    "def line_estimate(p1: np.ndarray, p2: np.ndarray) -> np.ndarray:\n",
    "    \"\"\"\n",
    "        Takes:\n",
    "            :param p1: A 2D point in homogenous coordinates\n",
    "            :param p2: A 2D point in homogenous coordinates\n",
    "        \n",
    "        Returns:\n",
    "            The line estimate between the two points\n",
    "    \"\"\"\n",
    "    \n",
    "    line_estimate = np.cross(p1, p2)\n",
    "    \n",
    "    # divide the first two coordinates by their own norm\n",
    "    line_estimate = line_estimate / np.linalg.norm(line_estimate[:2])\n",
    "    \n",
    "    return line_estimate\n",
    "\n",
    "\n",
    "def determine_inliers(l: np.ndarray, points: np.ndarray, tau: float) -> np.ndarray:\n",
    "    \"\"\"\n",
    "        Takes:\n",
    "            :param l: A line estimate in homogenous coordinates\n",
    "            :param points: A set of points in homogenous coordinates\n",
    "            :param tau: The threshold to determine whether a point is an inlier\n",
    "        \n",
    "        Returns:\n",
    "            A boolean array of the same length as points, where True indicates that the point is an inlier\n",
    "    \"\"\"\n",
    "    # Compute the distance between the line and the points\n",
    "    distances = np.abs(l @ points)\n",
    "    \n",
    "    # Determine which points are within the threshold\n",
    "    inliers = distances < tau\n",
    "    \n",
    "    \n",
    "    return inliers\n",
    "\n",
    "\n",
    "def consensus(l: np.ndarray, points: np.ndarray, tau: float) -> int:\n",
    "    \"\"\"\n",
    "        Takes:\n",
    "            :param l: A line estimate in homogenous coordinates\n",
    "            :param points: A set of points in homogenous coordinates\n",
    "            :param tau: The threshold to determine whether a point is an inlier\n",
    "        \n",
    "        Returns:\n",
    "            The number of inliers\n",
    "    \"\"\"\n",
    "    \n",
    "    inliers = determine_inliers(l, points, tau)\n",
    "    num_inliers = np.sum(inliers)\n",
    "    \n",
    "    return num_inliers"
   ]
  },
  {
   "attachments": {},
   "cell_type": "markdown",
   "metadata": {},
   "source": [
    "#### Response"
   ]
  },
  {
   "cell_type": "code",
   "execution_count": 122,
   "metadata": {},
   "outputs": [
    {
     "name": "stdout",
     "output_type": "stream",
     "text": [
      "x1: \n",
      "[[0.48075454]\n",
      " [0.91547038]]\n",
      "\n",
      "x2: \n",
      "[[0.58356452]\n",
      " [0.77721424]]\n",
      "\n",
      "x1 (hom): \n",
      "[0.48075454 0.91547038 1.        ]\n",
      "\n",
      "x2 (hom): \n",
      "[0.58356452 0.77721424 1.        ]\n",
      "\n",
      "Line estimate Homogenous: \n",
      "[[ 0.80245086]\n",
      " [ 0.59671821]\n",
      " [-0.93205974]]\n",
      "\n",
      "Inliers: 34\n"
     ]
    }
   ],
   "source": [
    "ransac = np.load(PATH + \"RANSAC.npy\", allow_pickle=True).item()\n",
    "\n",
    "tau = 0.2\n",
    "\n",
    "points = ransac[\"points\"]\n",
    "x1 = ransac[\"x1\"].reshape(-1, 1)\n",
    "x2 = ransac[\"x2\"].reshape(-1, 1)\n",
    "\n",
    "\n",
    "print(f\"x1: \\n{x1}\\n\")\n",
    "print(f\"x2: \\n{x2}\\n\")\n",
    "\n",
    "x1 = piInv(x1).flatten()\n",
    "x2 = piInv(x2).flatten()\n",
    "\n",
    "\n",
    "\n",
    "# print(f\"l_est: \\n{np.cross(x1, x2)}\\n\")\n",
    "\n",
    "print(f\"x1 (hom): \\n{x1}\\n\")\n",
    "print(f\"x2 (hom): \\n{x2}\\n\")\n",
    "\n",
    "\n",
    "l = line_estimate(x1, x2).reshape(-1, 1)\n",
    "points_hom = piInv(points)\n",
    "\n",
    "print(f\"Line estimate Homogenous: \\n{l}\\n\")\n",
    "\n",
    "# Determine the number of inliers\n",
    "inliers = consensus(l.T, points_hom, tau)\n",
    "\n",
    "print(f\"Inliers: {inliers}\")"
   ]
  },
  {
   "attachments": {},
   "cell_type": "markdown",
   "metadata": {},
   "source": [
    "### Quest 14"
   ]
  },
  {
   "cell_type": "code",
   "execution_count": 130,
   "metadata": {},
   "outputs": [
    {
     "name": "stdout",
     "output_type": "stream",
     "text": [
      "708.0\n",
      "899.0\n"
     ]
    }
   ],
   "source": [
    "# n = 2 for lines\n",
    "# n = 4 for homographies\n",
    "n = 4\n",
    "\n",
    "curr_iter = 191\n",
    "inliers = 103\n",
    "matches = 404\n",
    "\n",
    "frac = inliers / matches\n",
    "p = 0.95\n",
    "\n",
    "e_hat = 1 - frac\n",
    "\n",
    "N_hat = np.ceil(np.log(1 - p)/(np.log(1 - (1 - e_hat)**n)))\n",
    "\n",
    "print(N_hat)\n",
    "print(curr_iter + N_hat)"
   ]
  },
  {
   "cell_type": "code",
   "execution_count": 124,
   "metadata": {},
   "outputs": [
    {
     "name": "stdout",
     "output_type": "stream",
     "text": [
      "0.0\n"
     ]
    }
   ],
   "source": [
    "print(np.log(1))"
   ]
  },
  {
   "attachments": {},
   "cell_type": "markdown",
   "metadata": {},
   "source": [
    "### Quest 18"
   ]
  },
  {
   "cell_type": "code",
   "execution_count": 149,
   "metadata": {},
   "outputs": [
    {
     "name": "stdout",
     "output_type": "stream",
     "text": [
      "Matrix([[k11, k12, k13], [k21, k22, k23], [k31, k32, k33]])\n"
     ]
    }
   ],
   "source": [
    "import sympy\n",
    "k11, k12, k13, k21, k22, k23, k31, k32, k33 = sympy.symbols('k11 k12 k13 k21 k22 k23 k31 k32 k33')\n",
    "\n",
    "K = sympy.Matrix([[k11, k12, k13], [k21, k22, k23], [k31, k32, k33]])\n",
    "R = sympy.eye(3)\n",
    "\n",
    "KRT = K @ R \n",
    "\n",
    "print(KRT)"
   ]
  },
  {
   "attachments": {},
   "cell_type": "markdown",
   "metadata": {},
   "source": [
    "### Quest 20"
   ]
  },
  {
   "cell_type": "code",
   "execution_count": 1,
   "metadata": {},
   "outputs": [
    {
     "ename": "NameError",
     "evalue": "name 'np' is not defined",
     "output_type": "error",
     "traceback": [
      "\u001b[1;31m---------------------------------------------------------------------------\u001b[0m",
      "\u001b[1;31mNameError\u001b[0m                                 Traceback (most recent call last)",
      "\u001b[1;32mc:\\Users\\daflo\\Documents\\DTU\\Semester_8\\02504_Computer_vision\\02504_Code\\Exam\\02504_exam.ipynb Cell 42\u001b[0m in \u001b[0;36m<cell line: 6>\u001b[1;34m()\u001b[0m\n\u001b[0;32m      <a href='vscode-notebook-cell:/c%3A/Users/daflo/Documents/DTU/Semester_8/02504_Computer_vision/02504_Code/Exam/02504_exam.ipynb#X56sZmlsZQ%3D%3D?line=2'>3</a>\u001b[0m F \u001b[39m=\u001b[39m \u001b[39m14\u001b[39m\n\u001b[0;32m      <a href='vscode-notebook-cell:/c%3A/Users/daflo/Documents/DTU/Semester_8/02504_Computer_vision/02504_Code/Exam/02504_exam.ipynb#X56sZmlsZQ%3D%3D?line=3'>4</a>\u001b[0m s \u001b[39m=\u001b[39m \u001b[39m16\u001b[39m\n\u001b[1;32m----> <a href='vscode-notebook-cell:/c%3A/Users/daflo/Documents/DTU/Semester_8/02504_Computer_vision/02504_Code/Exam/02504_exam.ipynb#X56sZmlsZQ%3D%3D?line=5'>6</a>\u001b[0m x \u001b[39m=\u001b[39m np\u001b[39m.\u001b[39marray(\u001b[39mrange\u001b[39m(F \u001b[39m+\u001b[39m \u001b[39m1\u001b[39m))\n\u001b[0;32m      <a href='vscode-notebook-cell:/c%3A/Users/daflo/Documents/DTU/Semester_8/02504_Computer_vision/02504_Code/Exam/02504_exam.ipynb#X56sZmlsZQ%3D%3D?line=7'>8</a>\u001b[0m y \u001b[39m=\u001b[39m \u001b[39m1\u001b[39m\u001b[39m/\u001b[39m\u001b[39m2\u001b[39m \u001b[39m+\u001b[39m (\u001b[39m1\u001b[39m\u001b[39m/\u001b[39m\u001b[39m2\u001b[39m) \u001b[39m*\u001b[39m np\u001b[39m.\u001b[39mcos(n \u001b[39m*\u001b[39m theta \u001b[39m+\u001b[39m \u001b[39m2\u001b[39m\u001b[39m*\u001b[39mnp\u001b[39m.\u001b[39mpi \u001b[39m*\u001b[39m x\u001b[39m/\u001b[39ms)\n\u001b[0;32m     <a href='vscode-notebook-cell:/c%3A/Users/daflo/Documents/DTU/Semester_8/02504_Computer_vision/02504_Code/Exam/02504_exam.ipynb#X56sZmlsZQ%3D%3D?line=9'>10</a>\u001b[0m plt\u001b[39m.\u001b[39mscatter(x, y)\n",
      "\u001b[1;31mNameError\u001b[0m: name 'np' is not defined"
     ]
    }
   ],
   "source": [
    "theta = 0\n",
    "n = 8\n",
    "F = 14\n",
    "s = 16\n",
    "\n",
    "x = np.array(range(F + 1))\n",
    "\n",
    "y = 1/2 + (1/2) * np.cos(n * theta + 2*np.pi * x/s)\n",
    "\n",
    "plt.scatter(x, y)\n",
    "plt.show()"
   ]
  }
 ],
 "metadata": {
  "kernelspec": {
   "display_name": "Python 3",
   "language": "python",
   "name": "python3"
  },
  "language_info": {
   "codemirror_mode": {
    "name": "ipython",
    "version": 3
   },
   "file_extension": ".py",
   "mimetype": "text/x-python",
   "name": "python",
   "nbconvert_exporter": "python",
   "pygments_lexer": "ipython3",
   "version": "3.10.6"
  },
  "orig_nbformat": 4
 },
 "nbformat": 4,
 "nbformat_minor": 2
}
