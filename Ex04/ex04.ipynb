{
 "cells": [
  {
   "attachments": {},
   "cell_type": "markdown",
   "metadata": {},
   "source": [
    "# Exercise 4"
   ]
  },
  {
   "attachments": {},
   "cell_type": "markdown",
   "metadata": {},
   "source": [
    "## Helper functions"
   ]
  },
  {
   "cell_type": "code",
   "execution_count": 1,
   "metadata": {},
   "outputs": [],
   "source": [
    "import numpy as np\n",
    "import cv2 \n",
    "import os\n",
    "import scipy\n",
    "import matplotlib.pyplot as plt\n",
    "import matplotlib\n",
    "\n",
    "def load_im(path : str) -> np.ndarray:\n",
    "    \n",
    "    im = cv2.imread(path)[:, :, ::-1]\n",
    "    im = im.astype(np.float64) / 255\n",
    "    \n",
    "    return im\n",
    "\n",
    "\n",
    "def pi(points : np.ndarray) -> np.ndarray:\n",
    "    \"\"\"\n",
    "        Converts from homogeneous to inhomogeneous coordinates\n",
    "    \"\"\"\n",
    "    p = points[:-1]/points[-1]\n",
    "    \n",
    "    return p\n",
    "\n",
    "\n",
    "def piInv(points : np.ndarray) -> np.ndarray:\n",
    "    \"\"\"\n",
    "        Converts from inhomogeneous to homogeneous coordinates\n",
    "    \"\"\"\n",
    "    \n",
    "    # Gets the amount of points by using shape\n",
    "    _, num_points = points.shape\n",
    "    \n",
    "    # Stacks the scale s at the bottom of the matrix\n",
    "    ph = np.vstack((points, np.ones(num_points)))\n",
    "    \n",
    "    return ph\n",
    "\n",
    "\n",
    "def projectPoints(K, Rt, Q):\n",
    "    \n",
    "    Q_hom = piInv(Q)\n",
    "    points = K @ Rt @ Q_hom\n",
    "    points_inhom = pi(points)\n",
    "    \n",
    "    return points_inhom\n",
    "\n",
    "\n",
    "def hest(q1, q2) -> np.ndarray:\n",
    "    \"\"\"\n",
    "        Takes two points in 2D and returns the estimated homography matrix.\n",
    "    \"\"\"\n",
    "    \n",
    "    if len(q1) != len(q2):\n",
    "        raise ValueError(\"There must be an equal amount of points in the two sets!\")\n",
    "    \n",
    "    Bi = []\n",
    "    for i in range(q1.shape[1]):\n",
    "        qi = q1[:,i]   # <-- getting the first column\n",
    "        \n",
    "        # Creating that weird qx matrix for the Kronecker product\n",
    "        q1x = np.array(\n",
    "            [[0,        -1, qi[1]],\n",
    "             [1,        0, -qi[0]],\n",
    "             [-qi[1], qi[0], 0]]\n",
    "        )\n",
    "        \n",
    "        q2t_hom = q2[:, i].reshape(-1, 1) # <-- getting the first column and reshaping does for dim: (1, ) -> (1,1)\n",
    "        Bi.append(np.kron(q2t_hom.T, q1x)) # <-- formula follows that of week 2, slide 56\n",
    "        # print(np.kron(q2t_hom.T, q1x).shape)\n",
    "       \n",
    "    B = np.concatenate(Bi, axis=0)\n",
    "    \n",
    "    # Some TA prooved that it was unneseccary to find their dot product\n",
    "    #BtB = B.T @ B\n",
    "    V, Lambda, Vt = np.linalg.svd(B)\n",
    "    Ht = Vt[-1, :]\n",
    "    \n",
    "    Ht = np.reshape(Ht, (3, 3))\n",
    "    H = Ht.T\n",
    "    \n",
    "    return H\n",
    "    \n",
    "    \n",
    "def crossOp(p : np.ndarray) -> np.ndarray:\n",
    "    \"\"\"\n",
    "        One of Them weird functions. It takes in a 3D vector and then returns\n",
    "        some gnarly matrix.\n",
    "    \"\"\"\n",
    "    p = p.flatten()\n",
    "    if p.size != 3:\n",
    "        raise Exception(\"Invalid input, vector must be exactly 3D.\")\n",
    "    \n",
    "    x, y, z = p\n",
    "    px = np.array(\n",
    "        [[0, -z, y],\n",
    "         [z, 0, -x],\n",
    "         [-y, x, 0]]\n",
    "    )\n",
    "    \n",
    "    return px\n",
    "\n",
    "\n",
    "def computeFundamentalMatrix(K1 : np.ndarray, K2 : np.ndarray, R2 : np.ndarray, t2 : np.ndarray) -> np.ndarray:\n",
    "    \"\"\"\n",
    "        Computing the fundamental matrix between two camera matrices K1 & K2.\n",
    "    \"\"\"\n",
    "    t2x = CrossOp(t2)\n",
    "\n",
    "    E = t2x @ R2\n",
    "\n",
    "    K1inv = np.linalg.inv(K1)\n",
    "    K2inv = np.linalg.inv(K2)\n",
    "\n",
    "    F = K1inv.T @ E @ K2inv\n",
    "    \n",
    "    return F\n",
    "\n",
    "\n",
    "def fancyRotate(theta_x, theta_y, theta_z):\n",
    "    \"\"\"\n",
    "        Does the rotation matrix that we have seen a few times.\n",
    "        E.g. Exercises week 4, eq(12).\n",
    "    \"\"\"\n",
    "    from scipy.spatial.transform import Rotation\n",
    "    \n",
    "    R = Rotation.from_euler(\"xyz\", [theta_x, theta_y, theta_z]).as_matrix()\n",
    "    \n",
    "    return R\n",
    "\n",
    "\n"
   ]
  },
  {
   "attachments": {},
   "cell_type": "markdown",
   "metadata": {},
   "source": [
    "## Initial setup\n",
    "Its propaply good to remember that:\n",
    "$$\n",
    "    \\begin{align*}\n",
    "        \\pmb{p}_h &= \\pmb{K} \\pmb{P}_{cam}\n",
    "        \\\\\n",
    "        &=  \\pmb{K} \\left[ \\pmb{R} \\pmb{t} \\right] \\pmb{P}_h\n",
    "    \\end{align*}\n",
    "$$\n",
    "\n",
    "Where:\n",
    "$$\n",
    "    \\begin{equation*}\n",
    "        \\mathcal{P} = \\pmb{K} \\left[ \\pmb{R} \\pmb{t} \\right]\n",
    "    \\end{equation*}\n",
    "$$"
   ]
  },
  {
   "attachments": {},
   "cell_type": "markdown",
   "metadata": {},
   "source": [
    "## Ex. 4.1\n",
    "Fin the projection matrix $\\mathcal{P}$ and the projections $\\pmb{q}$."
   ]
  },
  {
   "attachments": {},
   "cell_type": "markdown",
   "metadata": {},
   "source": [
    "In this section consider the 3D points:\n",
    "$$\n",
    "    \\begin{equation*}\n",
    "        \\pmb{Q}_{ijk} = \n",
    "        \\begin{bmatrix}\n",
    "            i   \\\\\n",
    "            j   \\\\\n",
    "            k\n",
    "        \\end{bmatrix}\n",
    "        \\qquad \\text{for } i \\in \\{0, 1\\}, \\quad j \\in \\{0, 1\\}, \\quad k \\in \\{0, 1\\}.\n",
    "    \\end{equation*}\n",
    "$$\n",
    "\n",
    "We also have some other things which are defined in the code"
   ]
  },
  {
   "cell_type": "code",
   "execution_count": 2,
   "metadata": {},
   "outputs": [
    {
     "name": "stdout",
     "output_type": "stream",
     "text": [
      "[[0. 0. 0. 0. 1. 1. 1. 1.]\n",
      " [0. 0. 1. 1. 0. 0. 1. 1.]\n",
      " [0. 1. 0. 1. 0. 1. 0. 1.]]\n"
     ]
    }
   ],
   "source": [
    "f = 1000\n",
    "resolution = (1920, 1080)\n",
    "\n",
    "R = np.array(\n",
    "    [[np.sqrt(1/2), -np.sqrt(1/2), 0],\n",
    "     [np.sqrt(1/2),  np.sqrt(1/2), 0],\n",
    "     [0,                        0, 1]]\n",
    ")\n",
    "\n",
    "t = np.array([0, 0, 10]).reshape(-1, 1)\n",
    "\n",
    "Q = np.zeros((3, 8))\n",
    "\n",
    "count = 0\n",
    "\n",
    "for i in range(2):\n",
    "    for j in range(2):\n",
    "        for k in range(2):\n",
    "            Q[:, count] = np.array([i, j, k])\n",
    "            count += 1\n",
    "\n",
    "print(Q)"
   ]
  },
  {
   "attachments": {},
   "cell_type": "markdown",
   "metadata": {},
   "source": [
    "### Response"
   ]
  },
  {
   "cell_type": "code",
   "execution_count": 3,
   "metadata": {},
   "outputs": [
    {
     "name": "stdout",
     "output_type": "stream",
     "text": [
      "Yields a kamera matrix of: \n",
      "[[1000.    0.  960.]\n",
      " [   0. 1000.  540.]\n",
      " [   0.    0.    1.]]\n",
      "\n",
      "and a projection matrix of: \n",
      "[[ 7.07106781e+02 -7.07106781e+02  9.60000000e+02  9.60000000e+03]\n",
      " [ 7.07106781e+02  7.07106781e+02  5.40000000e+02  5.40000000e+03]\n",
      " [ 0.00000000e+00  0.00000000e+00  1.00000000e+00  1.00000000e+01]]\n",
      "\n",
      "finally... the qs: \n",
      "[[ 960.          540.        ]\n",
      " [ 960.          540.        ]\n",
      " [ 889.28932188  610.71067812]\n",
      " [ 895.71756535  604.28243465]\n",
      " [1030.71067812  610.71067812]\n",
      " [1024.28243465  604.28243465]\n",
      " [ 960.          681.42135624]\n",
      " [ 960.          668.56486931]]\n"
     ]
    }
   ],
   "source": [
    "Rt = np.concatenate((R, t), axis=1)\n",
    "\n",
    "# We define K as per slide 12 of week 2\n",
    "alpha = 1\n",
    "beta = 0\n",
    "\n",
    "deltax = resolution[0] / 2\n",
    "deltay = resolution[1] / 2\n",
    "\n",
    "K = np.array(\n",
    "    [[f, beta*f, deltax],\n",
    "     [0, alpha*f, deltay],\n",
    "     [0, 0, 1]]\n",
    "    )\n",
    "\n",
    "P = K @ Rt\n",
    "\n",
    "qs = projectPoints(K, Rt, Q)\n",
    "\n",
    "print(f\"Yields a kamera matrix of: \\n{K}\")\n",
    "print(f\"\\nand a projection matrix of: \\n{P}\")\n",
    "print(f\"\\nfinally... the qs: \\n{qs.T}\")"
   ]
  },
  {
   "attachments": {},
   "cell_type": "markdown",
   "metadata": {},
   "source": [
    "## Ex. 4.2\n",
    "\n",
    "Write a function `pest` that uses $\\pmb{Q}$ and $\\pmb{q}$ to estimate $\\mathcal{P}$ with the DLT.\n",
    "\n",
    "Also find the RMSE.\n",
    "\n",
    "(and more...)"
   ]
  },
  {
   "attachments": {},
   "cell_type": "markdown",
   "metadata": {},
   "source": [
    "### Response"
   ]
  },
  {
   "cell_type": "code",
   "execution_count": 4,
   "metadata": {},
   "outputs": [],
   "source": [
    "def pest(Q : np.ndarray, q : np.ndarray) -> np.ndarray:\n",
    "    \"\"\"\n",
    "        Takes in:\n",
    "            A matrix of 3D points: Q\n",
    "            \n",
    "            A homogenous point: q\n",
    "        \n",
    "        Returns:\n",
    "            A projection matrix: P   \n",
    "    \"\"\"\n",
    "    \n",
    "    Bi = []\n",
    "    for i in range(q.shape[1]):\n",
    "        qi = q[:, i].reshape(-1, 1)\n",
    "        Qi = Q[:, i].reshape(-1, 1)\n",
    "        \n",
    "        q_hom = piInv(qi)\n",
    "        Q_hom = piInv(Qi)\n",
    "        \n",
    "        qx = crossOp(q_hom)\n",
    "        \n",
    "        Bi.append(np.kron(Q_hom, qx).T) # <-- formula follows that of week 4, slide 6\n",
    "       \n",
    "    B = np.concatenate(Bi, axis=0)\n",
    "    #print(B.shape)\n",
    "    # Some TA prooved that it was unneseccary to find their dot product\n",
    "    #BtB = B.T @ B\n",
    "    _, _, Qt = np.linalg.svd(B)\n",
    "    Qt = Qt[-1, :]\n",
    "    \n",
    "    Qt = np.reshape(Qt, (4, 3))\n",
    "    Q = Qt.T\n",
    "    \n",
    "    return Q\n",
    "\n",
    "\n",
    "def RMSE(q : np.ndarray, q_tilde : np.ndarray) -> np.ndarray:\n",
    "    m = q.shape[1]\n",
    "    return np.sqrt(np.sum(np.power(q_tilde - q, 2)) / m)\n",
    "    \n",
    "    "
   ]
  },
  {
   "attachments": {},
   "cell_type": "markdown",
   "metadata": {},
   "source": [
    "Is it the same P?"
   ]
  },
  {
   "cell_type": "code",
   "execution_count": 5,
   "metadata": {},
   "outputs": [
    {
     "name": "stdout",
     "output_type": "stream",
     "text": [
      "This matrix should be close to zero (at all indices), since it is the true subtracted from the approximated\n",
      "[[ 0.00000000e+00  2.89901436e-11  3.02406988e-11 -1.09139364e-11]\n",
      " [-1.13686838e-12  1.85309545e-11  2.06910045e-11 -8.18545232e-12]\n",
      " [ 1.32870791e-12 -3.50752874e-12  2.46580534e-12 -1.32693856e-12]]\n"
     ]
    }
   ],
   "source": [
    "P_est = pest(Q, qs)\n",
    "\n",
    "p_est_scaled = P_est * (P[0, 0]/P_est[0, 0])\n",
    "\n",
    "print(\"This matrix should be close to zero (at all indices), since it is the true subtracted from the approximated\")\n",
    "print(p_est_scaled - P)"
   ]
  },
  {
   "cell_type": "code",
   "execution_count": 6,
   "metadata": {},
   "outputs": [],
   "source": [
    "P_est = pest(Q, qs)\n",
    "q_est = P_est @ piInv(Q)\n",
    "\n",
    "error = RMSE(qs, pi(q_est)) # <-- apparently we need to make q_est inhomogenous as they could otherwise have scaling that is way off\n",
    "\n"
   ]
  },
  {
   "attachments": {},
   "cell_type": "markdown",
   "metadata": {},
   "source": [
    "## Ex. 4.3 \n",
    "Make a `checkerboardPoints(n, m)` function that returns the 3D points:\n",
    "\n",
    "$$\n",
    "    \\begin{equation*}\n",
    "        \\pmb{Q}_{ij} = \n",
    "        \\begin{bmatrix}\n",
    "            i - \\frac{n - 1}{2}  \\\\\n",
    "            j - \\frac{m - 1}{2}  \\\\\n",
    "            0\n",
    "        \\end{bmatrix}\n",
    "        \\qquad\n",
    "        \\text{for } i \\in \\{0, ..., n-1\\}, \\quad j \\in \\{0, ..., m - 1\\}\n",
    "    \\end{equation*}\n",
    "$$"
   ]
  },
  {
   "attachments": {},
   "cell_type": "markdown",
   "metadata": {},
   "source": [
    "### Response"
   ]
  },
  {
   "cell_type": "code",
   "execution_count": 7,
   "metadata": {},
   "outputs": [],
   "source": [
    "def checkerboardPoints(n : int, m : int) -> np.ndarray:\n",
    "    \"\"\"\n",
    "        Takes:\n",
    "            an integer: n\n",
    "            \n",
    "            an integer: m\n",
    "        \n",
    "        Returns:\n",
    "            Weird matrix of size 3 x (n * m) : Q\n",
    "            (As defined per week 4 exercises, eq (7))\n",
    "        \n",
    "        Idiot code* explained:\n",
    "            We can't numpy.hstack to an empty array, so we initialize the first column, then\n",
    "            when we return, we just return all of the matrix except for the first column.\n",
    "    \"\"\"\n",
    "    \n",
    "    Q = np.zeros((3, 1))    # <-- idiot code (1/2)\n",
    "    \n",
    "    for i in range(n):\n",
    "        for j in range(m):\n",
    "            temp = np.array([i - (n - 1)/2, j - (m - 1)/2, 0]).reshape(-1, 1)\n",
    "            Q = np.hstack((Q, temp))\n",
    "    \n",
    "    Q = Q[:, 1:]    # <-- iditot code (2/2)\n",
    "    \n",
    "    return Q"
   ]
  },
  {
   "attachments": {},
   "cell_type": "markdown",
   "metadata": {},
   "source": [
    "## Ex. 4.4\n",
    "A lot of funky stuff"
   ]
  },
  {
   "attachments": {},
   "cell_type": "markdown",
   "metadata": {},
   "source": [
    "### Response"
   ]
  },
  {
   "cell_type": "code",
   "execution_count": 8,
   "metadata": {},
   "outputs": [],
   "source": [
    "%matplotlib qt\n",
    "N = 10\n",
    "M = 20\n",
    "Q_omega = checkerboardPoints(N, M)\n",
    "\n",
    "Qa = fancyRotate(np.pi/ 10, 0, 0) @ Q_omega\n",
    "Qb = fancyRotate(0, 0, 0) @ Q_omega\n",
    "Qc = fancyRotate(- np.pi/ 10, 0, 0) @ Q_omega\n",
    "\n",
    "\n",
    "fig = plt.figure(figsize = (16, 9))\n",
    "ax = fig.add_subplot(projection='3d')   # <-- this forces the figure to be 3D\n",
    "\n",
    "ax.scatter(Qa[0, :], Qa[1, :], Qa[2, :])\n",
    "ax.scatter(Qb[0, :], Qb[1, :], Qb[2, :])\n",
    "ax.scatter(Qc[0, :], Qc[1, :], Qc[2, :])\n",
    "\n",
    "plt.show()\n"
   ]
  },
  {
   "attachments": {},
   "cell_type": "markdown",
   "metadata": {},
   "source": [
    "Now we project to image plane!"
   ]
  },
  {
   "cell_type": "code",
   "execution_count": 9,
   "metadata": {},
   "outputs": [],
   "source": [
    "projectInhom2Inhom = lambda Q : pi(P @ piInv(Q))\n",
    "qa = projectInhom2Inhom(Qa)\n",
    "qb = projectInhom2Inhom(Qb)\n",
    "qc = projectInhom2Inhom(Qc)\n",
    "\n",
    "\n",
    "plt.figure(figsize=(16, 9))\n",
    "\n",
    "plt.scatter(qa[0, :], qa[1, :])\n",
    "plt.scatter(qb[0, :], qb[1, :])\n",
    "plt.scatter(qc[0, :], qc[1, :])\n",
    "\n",
    "plt.xlim(0, 1920)\n",
    "plt.ylim(0, 1080)\n",
    "\n",
    "plt.show()"
   ]
  },
  {
   "attachments": {},
   "cell_type": "markdown",
   "metadata": {},
   "source": [
    "## Ex. 4.5\n",
    "Define a function `estimateHomographies(Q_omega, qs)`.\n",
    "\n",
    "...Easier said than done :/"
   ]
  },
  {
   "attachments": {},
   "cell_type": "markdown",
   "metadata": {},
   "source": [
    "### Response"
   ]
  },
  {
   "cell_type": "code",
   "execution_count": 10,
   "metadata": {},
   "outputs": [],
   "source": [
    "def estimateHomographies(Q_omega : np.ndarray, qs : list) -> list:\n",
    "    \"\"\"\n",
    "        Takes:\n",
    "            A Q matrix: Q_omega\n",
    "            \n",
    "            A list of qs for which we find their homographies: qs\n",
    "            \n",
    "        Returns:\n",
    "            A list of homographies corresponding to qs: Hs\n",
    "    \"\"\"\n",
    "    \n",
    "    Hs = []\n",
    "    for q in qs:\n",
    "        H = hest(q, Q_omega[[0,1,3], :]) # <-- Only X, Y coordinates of Q_omega (and the scale at the fourth coordinate)\n",
    "        Hs.append(H)\n",
    "    \n",
    "    return Hs\n",
    "    \n"
   ]
  },
  {
   "attachments": {},
   "cell_type": "markdown",
   "metadata": {},
   "source": [
    "Testing"
   ]
  },
  {
   "cell_type": "code",
   "execution_count": 11,
   "metadata": {},
   "outputs": [
    {
     "name": "stdout",
     "output_type": "stream",
     "text": [
      "Error1: 1.2379686963917365e-10\n",
      "Error2: 4.697565415745792e-10\n",
      "Error3: 5.754668572505472e-10\n"
     ]
    }
   ],
   "source": [
    "### `hest` skal måske skrives om.... ###\n",
    "qs = [piInv(qa), piInv(qb), piInv(qc)]\n",
    "Q_omega_hom = piInv(Q_omega)\n",
    "Hs = estimateHomographies(Q_omega_hom, qs)\n",
    "\n",
    "for i in range(len(qs)):\n",
    "    q_est = Hs[i] @ Q_omega_hom[[0,1,3], :] # <-- Only X, Y coordinates of Q_omega (and the scale at the fourth coordinate)\n",
    "    error = RMSE(pi(qs[i]), pi(q_est)) # <-- apparently we need to make q_est & qs inhomogenous as they could otherwise have scaling that is way off\n",
    "    print(f\"Error{i + 1}: {error}\")\n"
   ]
  },
  {
   "attachments": {},
   "cell_type": "markdown",
   "metadata": {},
   "source": [
    "Got the same results as Jonas:"
   ]
  },
  {
   "cell_type": "code",
   "execution_count": 12,
   "metadata": {},
   "outputs": [
    {
     "name": "stdout",
     "output_type": "stream",
     "text": [
      "[[ 1.00000000e+00 -5.31521133e-01  1.35764502e+01]\n",
      " [ 1.00000000e+00  1.18704517e+00  7.63675324e+00]\n",
      " [-3.22462874e-16  4.37016024e-04  1.41421356e-02]]\n",
      "\n",
      "[[ 1.00000000e+00 -1.00000000e+00  1.35764502e+01]\n",
      " [ 1.00000000e+00  1.00000000e+00  7.63675324e+00]\n",
      " [ 1.61566460e-15  2.72620899e-16  1.41421356e-02]]\n",
      "\n",
      "[[ 1.00000000e+00 -1.37059190e+00  1.35764502e+01]\n",
      " [ 1.00000000e+00  7.15067863e-01  7.63675324e+00]\n",
      " [-8.59059800e-16 -4.37016024e-04  1.41421356e-02]]\n",
      "\n"
     ]
    }
   ],
   "source": [
    "for hom in Hs:\n",
    "    Hi_scaled = hom / hom[0, 0]\n",
    "    print(Hi_scaled)\n",
    "    print()"
   ]
  },
  {
   "attachments": {},
   "cell_type": "markdown",
   "metadata": {},
   "source": [
    "## Ex. 4.6\n",
    "\n",
    "We need to make the function `estimate_b`, which takes a list of homographies `Hs` and returns the vector $\\pmb{b}$."
   ]
  },
  {
   "attachments": {},
   "cell_type": "markdown",
   "metadata": {},
   "source": [
    "### Response"
   ]
  },
  {
   "cell_type": "code",
   "execution_count": 13,
   "metadata": {},
   "outputs": [],
   "source": [
    "def get_v(Hi : np.ndarray, alpha : int, beta : int) -> np.ndarray:\n",
    "    \"\"\"\n",
    "        Takes:\n",
    "            A numpy array (homography): Hi\n",
    "            \n",
    "            An integer in range [0, 1]: alpha\n",
    "            \n",
    "            An integer in range [0, 1]: beta\n",
    "        \n",
    "        Returns:\n",
    "            A vector (as per week 4, slide 19) of dimensions (1 x 6): v\n",
    "            \n",
    "        *Code provided so generously by Jonas Søeborg*\n",
    "    \"\"\"\n",
    "    \n",
    "    v = np.array(\n",
    "            [Hi[0, alpha] * Hi[0, beta], Hi[0, alpha] * Hi[1, beta] + Hi[1, alpha] * Hi[0, beta],\n",
    "            Hi[1, alpha] * Hi[1, beta], Hi[2, alpha] * Hi[0, beta] + Hi[0, alpha] * Hi[2, beta],\n",
    "            Hi[2, alpha] * Hi[1, beta] + Hi[1, alpha] * Hi[2, beta], Hi[2, alpha] * Hi[2, beta]]\n",
    "        ) \n",
    "    \n",
    "    return v\n",
    "\n",
    "\n",
    "def estimate_b(Hs : list) -> np.ndarray:\n",
    "    \"\"\"\n",
    "        Takes:\n",
    "            A list of homographies: Hs\n",
    "        \n",
    "        Returns:\n",
    "            A vector (as per week 4, slide 22): b\n",
    "    \"\"\"\n",
    "    \n",
    "    V = []\n",
    "    for Hi in Hs:\n",
    "        # vi is a (2 x 6) matrix\n",
    "        vi = np.array([get_v(Hi, 0, 1), get_v(Hi, 0, 0) - get_v(Hi, 1, 1)]) # <-- Exactly the same as bottom of week 4, slide 21\n",
    "        V.append(vi)    # <-- appending so we can concatenate all the elements along axis zero later\n",
    "    \n",
    "    V = np.vstack(V)    # <-- concatenating along axis zero\n",
    "    \n",
    "    # Armed with V, we can now find b using SVD:\n",
    "    _, _, vh = np.linalg.svd(V)\n",
    "    b = vh[-1, :].reshape(-1, 1)\n",
    "    \n",
    "    return b\n",
    "    \n",
    "    "
   ]
  },
  {
   "attachments": {},
   "cell_type": "markdown",
   "metadata": {},
   "source": [
    "#### Testing whether stuff works\n",
    "\n",
    "We test by creating a: $\\pmb{b}_{true}$ from the $\\pmb{K}$ as defined earlier, by utilizing week 4, slide 18:"
   ]
  },
  {
   "cell_type": "code",
   "execution_count": 14,
   "metadata": {},
   "outputs": [
    {
     "name": "stdout",
     "output_type": "stream",
     "text": [
      "b_true: \n",
      "[[ 1.0000e-06]\n",
      " [ 0.0000e+00]\n",
      " [ 1.0000e-06]\n",
      " [-9.6000e-04]\n",
      " [-5.4000e-04]\n",
      " [ 2.2132e+00]] \n",
      "\n",
      "b_est: \n",
      "[[-4.51834392e-07]\n",
      " [-5.72064877e-19]\n",
      " [-4.51834392e-07]\n",
      " [ 4.33761016e-04]\n",
      " [ 2.43990572e-04]\n",
      " [-9.99999876e-01]] \n",
      "\n",
      "b_est_scaled: \n",
      "[[ 1.00000000e-06]\n",
      " [ 1.26609414e-18]\n",
      " [ 1.00000000e-06]\n",
      " [-9.60000000e-04]\n",
      " [-5.40000000e-04]\n",
      " [ 2.21320000e+00]]\n"
     ]
    }
   ],
   "source": [
    "K_inv = np.linalg.inv(K)\n",
    "B_true = K_inv.T @ K_inv\n",
    "b_true = np.array([B_true[0, 0], B_true[0, 1], B_true[1, 1], B_true[0, 2], B_true[1, 2], B_true[2, 2]]).reshape(-1, 1)\n",
    "\n",
    "b_est = estimate_b(Hs)\n",
    "b_est_scaled = b_est * (b_true[0, 0] / b_est[0, 0])\n",
    "\n",
    "print(f\"b_true: \\n{b_true} \\n\\nb_est: \\n{b_est} \\n\\nb_est_scaled: \\n{b_est_scaled}\")"
   ]
  },
  {
   "attachments": {},
   "cell_type": "markdown",
   "metadata": {},
   "source": [
    "## Ex. 4.7\n",
    "Now we define a function called `estimateIntrinsics` which takes a list of homographies `Hs` and returns a camera matrix `K`.\n"
   ]
  },
  {
   "attachments": {},
   "cell_type": "markdown",
   "metadata": {},
   "source": [
    "### Response\n",
    "\n",
    "We use an $\\pmb{A}$ matrix defined from Zhang's paper:\n",
    "$$\n",
    "    \\pmb{A} =\n",
    "\n",
    "    \\begin{bmatrix}\n",
    "        \\alpha  & \\gamma    & u_0 \\\\\n",
    "        0       & \\beta     & v_0 \\\\\n",
    "        0       & 0         & 1\n",
    "    \\end{bmatrix}\n",
    "$$\n",
    "Where:\n",
    "$$\n",
    "    \\begin{align*}\n",
    "        v_0 &= (B_{1, 2} \\cdot B_{1, 3} - B_{1, 1} \\cdot B_{2, 3}) / (B_{1, 1} \\cdot B_{2, 2} - B_{1, 2}^2)\n",
    "        \\\\\n",
    "        \\lambda &= B_{3, 3} - \\Big(B_{1, 3}^2 + v_0 (B_{1, 2} \\cdot B_{1, 3} - B_{1, 1} \\cdot B_{2, 3}) \\Big) / B_{1, 1}\n",
    "        \\\\\n",
    "        \\alpha &= \\sqrt{\\lambda / B_{1, 1}}\n",
    "        \\\\\n",
    "        \\beta &= \\sqrt{\\lambda \\cdot B_{1, 1} / (B_{1, 1} \\cdot B_{2, 2} - B_{1, 2}^2)}\n",
    "        \\\\\n",
    "        \\gamma &= -B_{1, 2} \\cdot \\alpha^2 \\cdot \\beta / \\lambda\n",
    "        \\\\\n",
    "        u_0 &= \\gamma \\cdot v_0 / \\beta - B_{1, 3} \\cdot \\alpha^2 / \\lambda\n",
    "    \\end{align*}\n",
    "$$"
   ]
  },
  {
   "cell_type": "code",
   "execution_count": 15,
   "metadata": {},
   "outputs": [],
   "source": [
    "def estimateIntrinsics(Hs : list) -> np.ndarray:\n",
    "    \"\"\"\n",
    "        Takes:\n",
    "            A list of homographies: Hs\n",
    "            \n",
    "        Returns:\n",
    "            A camera matrix (as per Zhangs paper): K\n",
    "    \"\"\"\n",
    "    \n",
    "    b = estimate_b(Hs)\n",
    "    B11, B12, B22, B13, B23, B33 = b.flatten()\n",
    "    \n",
    "    v0 = (B12 * B13 - B11 * B23) / (B11 * B22 - B12**2)\n",
    "    lam = B33 - (B13**2 + v0 * (B12 * B13 - B11 * B23)) / B11\n",
    "    alpha = np.sqrt(lam / B11)\n",
    "    beta = np.sqrt(lam * B11 / (B11 * B22 - B12**2))\n",
    "    gamma = -B12 * alpha**2 * beta / lam\n",
    "    u0 = lam * v0 / beta - B13 * alpha**2 / lam\n",
    "    \n",
    "    K = np.array(\n",
    "        [[alpha,    gamma,  u0],\n",
    "         [0,        beta,   v0],\n",
    "         [0,        0,      1]]\n",
    "    )\n",
    "    \n",
    "    return K"
   ]
  },
  {
   "cell_type": "code",
   "execution_count": 16,
   "metadata": {},
   "outputs": [
    {
     "name": "stdout",
     "output_type": "stream",
     "text": [
      "True K: \n",
      "[[1000.    0.  960.]\n",
      " [   0. 1000.  540.]\n",
      " [   0.    0.    1.]] \n",
      "\n",
      "Estimated K: \n",
      "[[ 1.00000000e+03 -1.26609414e-09  9.59756009e+02]\n",
      " [ 0.00000000e+00  1.00000000e+03  5.40000000e+02]\n",
      " [ 0.00000000e+00  0.00000000e+00  1.00000000e+00]] \n",
      "\n",
      "K_est_scaled: \n",
      "[[ 1.00000000e+03 -1.26609414e-09  9.59756009e+02]\n",
      " [ 0.00000000e+00  1.00000000e+03  5.40000000e+02]\n",
      " [ 0.00000000e+00  0.00000000e+00  1.00000000e+00]]\n"
     ]
    }
   ],
   "source": [
    "K_est = estimateIntrinsics(Hs)\n",
    "K_est_scaled = K_est * (K[0, 0] / K_est[0, 0])\n",
    "\n",
    "print(f\"True K: \\n{K} \\n\\nEstimated K: \\n{K_est} \\n\\nK_est_scaled: \\n{K_est_scaled}\")"
   ]
  },
  {
   "attachments": {},
   "cell_type": "markdown",
   "metadata": {},
   "source": [
    "## Ex. 4.8\n",
    "\n",
    "Finally we define the function: `Rs, ts = estimateExtrinsics(K, Hs)` that takes camera matrix $\\pmb{K}$ and the homographies $\\pmb{Hs}$ and returns the rotations $\\pmb{Rs}$ and the translations $\\pmb{ts}$ of each checkerboard."
   ]
  },
  {
   "attachments": {},
   "cell_type": "markdown",
   "metadata": {},
   "source": [
    "### Response\n",
    "From page six of Zhang's paper we have the following:\n",
    "$$\n",
    "    \\begin{align*}\n",
    "        \\pmb{r}_1 &= \\lambda \\pmb{A}^{-1} \\pmb{h}_1\n",
    "        \\\\\n",
    "        \\pmb{r}_2 &= \\lambda \\pmb{A}^{-1} \\pmb{h}_2\n",
    "        \\\\\n",
    "        \\pmb{r}_3 &= \\pmb{r}_1 \\times \\pmb{r}_2\n",
    "        \\\\\n",
    "        \\pmb{t} &= \\lambda \\pmb{A}^{-1} \\pmb{h}_3,\n",
    "    \\end{align*}\n",
    "$$\n",
    "where\n",
    "$$\n",
    "    \\begin{gather*}\n",
    "        \\lambda = 1 / ||\\pmb{A}^{-1} \\pmb{h}_1|| = 1 / || \\pmb{A}^{-1} \\pmb{h}_2 ||.\n",
    "    \\end{gather*}\n",
    "$$\n",
    "\n",
    "REMEBER! The paper refer to our $\\pmb{K}$ as $\\pmb{A}$."
   ]
  },
  {
   "cell_type": "code",
   "execution_count": 17,
   "metadata": {},
   "outputs": [],
   "source": [
    "def estimateExtrinsics(K : np.ndarray, Hs : list) -> tuple[list[np.ndarray], list[np.ndarray]]:\n",
    "    \"\"\"\n",
    "        Takes:\n",
    "            A camera matrix: K\n",
    "            \n",
    "            A list of homographies: Hs\n",
    "        \n",
    "        Returns:\n",
    "            The rotation matrices: Rs\n",
    "            \n",
    "            The translations: ts\n",
    "    \"\"\"\n",
    "    \n",
    "    K_inv = np.linalg.inv(K)\n",
    "    \n",
    "    Rs = []\n",
    "    ts = []\n",
    "    for Hi in Hs:\n",
    "        lam = 1/np.linalg.norm(K_inv @ Hi[:, 0])\n",
    "        r1 = lam * K_inv @ Hi[:, 0]\n",
    "        r2 = lam * K_inv @ Hi[:, 1]\n",
    "        r3 = crossOp(r1) @ r2\n",
    "        t = lam * K_inv @ Hi[:, 2]\n",
    "        \n",
    "        if t[2] < 0:\n",
    "            # This is exactly the same but we should try and estimate again using the negative homography.\n",
    "            # see week 4, slide 28.\n",
    "            Hi = -Hi\n",
    "            lam = 1/np.linalg.norm(K_inv @ Hi[:, 0])\n",
    "            r1 = lam * K_inv @ Hi[:, 0]\n",
    "            r2 = lam * K_inv @ Hi[:, 1]\n",
    "            r3 = crossOp(r1) @ r2\n",
    "            t = lam * K_inv @ Hi[:, 2]\n",
    "            \n",
    "        Rs.append(np.column_stack([r1, r2, r3]))    # <-- column_stack( ) makes the list a matrix where each entry is a column.\n",
    "        ts.append(t)\n",
    "         \n",
    "    \n",
    "    return Rs, ts"
   ]
  },
  {
   "attachments": {},
   "cell_type": "markdown",
   "metadata": {},
   "source": [
    "Finally we make a function: `K, Rs, ts = calibratecamera(qs, Q)`, which is the fruit of all our labor.\n",
    "\n",
    "(Basically it just calls all the functions we already made...)"
   ]
  },
  {
   "cell_type": "code",
   "execution_count": 18,
   "metadata": {},
   "outputs": [],
   "source": [
    "def calibrateCamera(qs : list, Q : np.ndarray) -> tuple[np.ndarray, list[np.ndarray], list[np.ndarray]]:\n",
    "    \"\"\"\n",
    "        Takes:\n",
    "            A list of qs for which we find their homographies: qs\n",
    "            \n",
    "            A Q matrix: Q\n",
    "        \n",
    "        Returns:\n",
    "            A camera matrix: K\n",
    "            \n",
    "            The rotation matrices: Rs\n",
    "            \n",
    "            The translations: ts\n",
    "    \"\"\"\n",
    "    \n",
    "    Hs = estimateHomographies(Q, qs)\n",
    "    \n",
    "    K = estimateIntrinsics(Hs)\n",
    "    \n",
    "    Rs, ts = estimateExtrinsics(K, Hs)\n",
    "    \n",
    "    \n",
    "    return K, Rs, ts"
   ]
  },
  {
   "attachments": {},
   "cell_type": "markdown",
   "metadata": {},
   "source": [
    "#### Testing of rotation matrices"
   ]
  },
  {
   "cell_type": "code",
   "execution_count": 19,
   "metadata": {},
   "outputs": [
    {
     "name": "stdout",
     "output_type": "stream",
     "text": [
      "R0_true: \n",
      "[[ 1.          0.          0.        ]\n",
      " [ 0.          0.95105652 -0.30901699]\n",
      " [ 0.          0.30901699  0.95105652]] \n",
      "\n",
      "R0_est: \n",
      "[[ 7.07106781e-01 -6.72498512e-01  2.18508012e-01]\n",
      " [ 7.07106781e-01  6.72498512e-01 -2.18508012e-01]\n",
      " [-2.28015685e-13  3.09016994e-01  9.51056516e-01]] \n",
      "\n",
      "R0_est_scaled: \n",
      "[[ 1.00000000e+00 -9.51056516e-01  3.09016994e-01]\n",
      " [ 1.00000000e+00  9.51056516e-01 -3.09016994e-01]\n",
      " [-3.22462874e-13  4.37016024e-01  1.34499702e+00]] \n",
      "\n",
      "\n",
      "R1_true: \n",
      "[[1. 0. 0.]\n",
      " [0. 1. 0.]\n",
      " [0. 0. 1.]] \n",
      "\n",
      "R1_est: \n",
      "[[ 7.07106781e-01 -7.07106781e-01 -6.71521851e-13]\n",
      " [ 7.07106781e-01  7.07106781e-01 -9.44142750e-13]\n",
      " [ 1.14244739e-12  1.92772086e-13  1.00000000e+00]] \n",
      "\n",
      "R1_est_scaled: \n",
      "[[ 1.00000000e+00 -1.00000000e+00 -9.49675309e-13]\n",
      " [ 1.00000000e+00  1.00000000e+00 -1.33521948e-12]\n",
      " [ 1.61566460e-12  2.72620899e-13  1.41421356e+00]] \n",
      "\n",
      "\n",
      "R2_true: \n",
      "[[ 1.         -0.          0.        ]\n",
      " [ 0.          0.95105652  0.30901699]\n",
      " [-0.         -0.30901699  0.95105652]] \n",
      "\n",
      "R2_est: \n",
      "[[ 7.07106781e-01 -6.72498512e-01 -2.18508012e-01]\n",
      " [ 7.07106781e-01  6.72498512e-01  2.18508012e-01]\n",
      " [-6.07447010e-13 -3.09016994e-01  9.51056516e-01]] \n",
      "\n",
      "R2_est_scaled: \n",
      "[[ 1.00000000e+00 -9.51056516e-01 -3.09016994e-01]\n",
      " [ 1.00000000e+00  9.51056516e-01  3.09016994e-01]\n",
      " [-8.59059800e-13 -4.37016024e-01  1.34499702e+00]] \n",
      "\n",
      "\n"
     ]
    }
   ],
   "source": [
    "R1 = fancyRotate(np.pi/ 10, 0, 0)\n",
    "R2 = fancyRotate(0, 0, 0)\n",
    "R3 = fancyRotate(- np.pi/ 10, 0, 0)\n",
    "\n",
    "Rs_true = [R1, R2, R3]\n",
    "\n",
    "Rs_est, ts_est = estimateExtrinsics(K, Hs)\n",
    "\n",
    "for i in range(len(Rs_true)):\n",
    "    R_est_scaled = Rs_est[i] * (Rs_true[i][0, 0] / Rs_est[i][0, 0])\n",
    "    print(f\"R{i}_true: \\n{Rs_true[i]} \\n\\nR{i}_est: \\n{Rs_est[i]} \\n\\nR{i}_est_scaled: \\n{R_est_scaled} \\n\\n\")\n"
   ]
  },
  {
   "attachments": {},
   "cell_type": "markdown",
   "metadata": {},
   "source": [
    "Soooo.... it doesn't really seem like it gives the right results, but apparently we do not care.. for now."
   ]
  }
 ],
 "metadata": {
  "kernelspec": {
   "display_name": "Python 3",
   "language": "python",
   "name": "python3"
  },
  "language_info": {
   "codemirror_mode": {
    "name": "ipython",
    "version": 3
   },
   "file_extension": ".py",
   "mimetype": "text/x-python",
   "name": "python",
   "nbconvert_exporter": "python",
   "pygments_lexer": "ipython3",
   "version": "3.10.6"
  },
  "orig_nbformat": 4,
  "vscode": {
   "interpreter": {
    "hash": "d96a798051220adb8d47ede7819712d4980d7e1ecee887457e300fc8d0177c4e"
   }
  }
 },
 "nbformat": 4,
 "nbformat_minor": 2
}
